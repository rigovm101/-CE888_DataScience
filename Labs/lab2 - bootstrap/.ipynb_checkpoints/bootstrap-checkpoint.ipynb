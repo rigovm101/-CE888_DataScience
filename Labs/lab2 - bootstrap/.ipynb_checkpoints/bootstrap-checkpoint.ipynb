{
 "cells": [
  {
   "cell_type": "markdown",
   "metadata": {
    "colab_type": "text",
    "id": "view-in-github"
   },
   "source": [
    "<a href=\"https://colab.research.google.com/github/albanda/CE888/blob/master/lab2%20-%20bootstrap/bootstrap.ipynb\" target=\"_parent\"><img src=\"https://colab.research.google.com/assets/colab-badge.svg\" alt=\"Open In Colab\"/></a>"
   ]
  },
  {
   "cell_type": "markdown",
   "metadata": {
    "id": "nCi_99yMYIb1"
   },
   "source": [
    "In this notebook you'll create your own bootstrap function following the bootstrap algorithm (check the lecture notes!)"
   ]
  },
  {
   "cell_type": "code",
   "execution_count": 1,
   "metadata": {
    "id": "LY5zujI2YC37",
    "pycharm": {
     "name": "#%%# Imports\n"
    }
   },
   "outputs": [],
   "source": [
    "import matplotlib\n",
    "import pandas as pd\n",
    "import seaborn as sns\n",
    "import numpy as np\n",
    "\n"
   ]
  },
  {
   "cell_type": "code",
   "execution_count": 2,
   "metadata": {
    "id": "Eqkwj4SMY38t"
   },
   "outputs": [
    {
     "name": "stdout",
     "output_type": "stream",
     "text": [
      "[ 2.  8. 20. 13.  5.  9. 10.  8. 22. 10.  2.  4.  7.  9.]\n"
     ]
    }
   ],
   "source": [
    "# Load the data\n",
    "df = pd.read_csv('https://raw.githubusercontent.com/albanda/CE888/master/lab2%20-%20bootstrap/customers.csv')\n",
    "data = df.values.T[1]\n",
    "print(data)"
   ]
  },
  {
   "cell_type": "code",
   "execution_count": 3,
   "metadata": {
    "id": "Gxvc_bScYC4H",
    "pycharm": {
     "name": "#%%\n"
    }
   },
   "outputs": [],
   "source": [
    "# Checking the notes from the lecture, create here your own bootstrap function:\n",
    "# 1. Sample from the input array x to create an array of samples of shape (n_bootstraps, sample_size)\n",
    "# Hint: Check the function random.choice() on Numpy\n",
    "# 2. Calculate and save the mean of the array (this is \"data_mean\" that is returned by the function)\n",
    "# 3. Calculate the mean from each bootstrap (i.e., row) and store it.\n",
    "# (This should be an array of n_bootstraps values)\n",
    "# 4. Calculate the lower and upper bounds for a 95% CI (hint: check the percentile function on Numpy)\n",
    "# 5. Return data_mean, and the lower and upper bounds of your interval\n",
    "def bootstrap_mean(x, sample_size, n_bootstraps):\n",
    "    bootstraps = np.random.choice(a=x, size=(n_bootstraps,sample_size))\n",
    "    data_mean = np.mean(bootstraps)\n",
    "    bootstrap_mean = np.mean(bootstraps, axis = 1)\n",
    "    lower = np.percentile(bootstrap_mean, q=2.5)\n",
    "    upper = np.percentile(bootstrap_mean, q=97.5)\n",
    "    return data_mean, lower, upper"
   ]
  },
  {
   "cell_type": "code",
   "execution_count": 5,
   "metadata": {
    "id": "AN7sEOcMYC4P",
    "pycharm": {
     "name": "#%%\n"
    }
   },
   "outputs": [
    {
     "data": {
      "text/plain": [
       "(0.0, 50000.0)"
      ]
     },
     "execution_count": 5,
     "metadata": {},
     "output_type": "execute_result"
    },
    {
     "data": {
      "image/png": "[encoded data removed]",
      "text/plain": [
       "<Figure size 425.125x360 with 1 Axes>"
      ]
     },
     "metadata": {
      "needs_background": "light"
     },
     "output_type": "display_data"
    }
   ],
   "source": [
    "# Call your bootstrap function and plot the results\n",
    "boots = []\n",
    "for i in range(100, 50000, 1000):\n",
    "    boot = bootstrap_mean(x=data, sample_size=data.shape[0], n_bootstraps=i)\n",
    "    boots.append([i, boot[0], \"mean\"])\n",
    "    boots.append([i, boot[1], \"lower\"])\n",
    "    boots.append([i, boot[2], \"upper\"])\n",
    "\n",
    "df_boot = pd.DataFrame(boots, columns=['Bootstrap Iterations', 'Mean', \"Value\"])\n",
    "sns_plot = sns.lmplot(x=df_boot.columns[0], y=df_boot.columns[1], data=df_boot, fit_reg=False, hue=\"Value\")\n",
    "\n",
    "sns_plot.axes[0, 0].set_ylim(4,14)\n",
    "sns_plot.axes[0, 0].set_xlim(0, 50000)\n"
   ]
  },
  {
   "cell_type": "markdown",
   "metadata": {
    "id": "MjtP4e2_YC4V"
   },
   "source": [
    "\n",
    "Now, modify the bootstrap function you created above so that you can pass your desired confidence interval as a parameter.\n",
    "\n"
   ]
  },
  {
   "cell_type": "code",
   "execution_count": 6,
   "metadata": {
    "id": "3K9j0FuGYhHs"
   },
   "outputs": [],
   "source": [
    "def bootstrap_mean_ci(sample, sample_size, n_bootstraps, ci):\n",
    "    bootstraps = np.random.choice(a=sample, size=(n_bootstraps,sample_size))\n",
    "    data_mean = np.mean(bootstraps)\n",
    "    bootstrap_mean = np.mean(bootstraps, axis = 1)\n",
    "    lower = np.percentile(bootstrap_mean, q=(100 - ci) / 2)\n",
    "    upper = np.percentile(bootstrap_mean, q=100 - (100 - ci) / 2)\n",
    "    return data_mean, lower, upper"
   ]
  },
  {
   "cell_type": "code",
   "execution_count": 7,
   "metadata": {
    "id": "uDnjq08GYl-C"
   },
   "outputs": [
    {
     "data": {
      "text/plain": [
       "(0.0, 50000.0)"
      ]
     },
     "execution_count": 7,
     "metadata": {},
     "output_type": "execute_result"
    },
    {
     "data": {
      "image/png": "[encoded data removed]",
      "text/plain": [
       "<Figure size 425.125x360 with 1 Axes>"
      ]
     },
     "metadata": {
      "needs_background": "light"
     },
     "output_type": "display_data"
    }
   ],
   "source": [
    "boots = []\n",
    "for i in range(100, 50000, 1000):\n",
    "    boot = bootstrap_mean_ci(data, data.shape[0], i, 80)\n",
    "    boots.append([i, boot[0], \"mean\"])\n",
    "    boots.append([i, boot[1], \"lower\"])\n",
    "    boots.append([i, boot[2], \"upper\"])\n",
    "\n",
    "df_boot = pd.DataFrame(boots, columns=['Boostrap Iterations', 'Mean', \"Value\"])\n",
    "sns_plot = sns.lmplot(x=df_boot.columns[0], y=df_boot.columns[1], data=df_boot, fit_reg=False, hue=\"Value\")\n",
    "\n",
    "sns_plot.axes[0, 0].set_ylim(6,12)\n",
    "sns_plot.axes[0, 0].set_xlim(0, 50000)\n",
    "\n",
    "#sns_plot.savefig(\"bootstrap_confidence_80.pdf\", bbox_inches='tight')\n"
   ]
  },
  {
   "cell_type": "markdown",
   "metadata": {
    "id": "qjNgXW6wdd7r"
   },
   "source": [
    "# Vehicles dataset\n",
    "\n",
    "Now let's work on a different dataset, which is stored in the vehicles.csv file.\n"
   ]
  },
  {
   "cell_type": "code",
   "execution_count": 9,
   "metadata": {
    "id": "avWv4ipFdpka"
   },
   "outputs": [
    {
     "data": {
      "text/html": [
       "<div>\n",
       "<style scoped>\n",
       "    .dataframe tbody tr th:only-of-type {\n",
       "        vertical-align: middle;\n",
       "    }\n",
       "\n",
       "    .dataframe tbody tr th {\n",
       "        vertical-align: top;\n",
       "    }\n",
       "\n",
       "    .dataframe thead th {\n",
       "        text-align: right;\n",
       "    }\n",
       "</style>\n",
       "<table border=\"1\" class=\"dataframe\">\n",
       "  <thead>\n",
       "    <tr style=\"text-align: right;\">\n",
       "      <th></th>\n",
       "      <th>Current fleet</th>\n",
       "      <th>New Fleet</th>\n",
       "    </tr>\n",
       "  </thead>\n",
       "  <tbody>\n",
       "    <tr>\n",
       "      <th>0</th>\n",
       "      <td>18</td>\n",
       "      <td>24.0</td>\n",
       "    </tr>\n",
       "    <tr>\n",
       "      <th>1</th>\n",
       "      <td>15</td>\n",
       "      <td>27.0</td>\n",
       "    </tr>\n",
       "    <tr>\n",
       "      <th>2</th>\n",
       "      <td>18</td>\n",
       "      <td>27.0</td>\n",
       "    </tr>\n",
       "    <tr>\n",
       "      <th>3</th>\n",
       "      <td>16</td>\n",
       "      <td>25.0</td>\n",
       "    </tr>\n",
       "    <tr>\n",
       "      <th>4</th>\n",
       "      <td>17</td>\n",
       "      <td>31.0</td>\n",
       "    </tr>\n",
       "  </tbody>\n",
       "</table>\n",
       "</div>"
      ],
      "text/plain": [
       "   Current fleet  New Fleet\n",
       "0             18       24.0\n",
       "1             15       27.0\n",
       "2             18       27.0\n",
       "3             16       25.0\n",
       "4             17       31.0"
      ]
     },
     "execution_count": 9,
     "metadata": {},
     "output_type": "execute_result"
    }
   ],
   "source": [
    "# Load and visualise the vehicles dataset\n",
    "# To load the dataset: https://neptune.ai/blog/google-colab-dealing-with-files (check section \"Load individual files directly from GitHub\")\n",
    "\n",
    "\n",
    "# Note that the current and new fleets are in different columns and have different lengths, so bear this in mind when you're plotting.\n",
    "# You can create separate scatterplots for the two fleets, as you would with the histograms, \n",
    "# or plot them both in one plot (but not one against the other).\n",
    "# <---INSERT YOUR CODE HERE--->\n",
    "# Note: you can add more cells as needed to organise your code and your plots\n",
    "df = pd.read_csv('vehicles.csv')\n",
    "df.head()"
   ]
  },
  {
   "cell_type": "code",
   "execution_count": 10,
   "metadata": {},
   "outputs": [
    {
     "data": {
      "text/html": [
       "<div>\n",
       "<style scoped>\n",
       "    .dataframe tbody tr th:only-of-type {\n",
       "        vertical-align: middle;\n",
       "    }\n",
       "\n",
       "    .dataframe tbody tr th {\n",
       "        vertical-align: top;\n",
       "    }\n",
       "\n",
       "    .dataframe thead th {\n",
       "        text-align: right;\n",
       "    }\n",
       "</style>\n",
       "<table border=\"1\" class=\"dataframe\">\n",
       "  <thead>\n",
       "    <tr style=\"text-align: right;\">\n",
       "      <th></th>\n",
       "      <th>Current fleet</th>\n",
       "      <th>New Fleet</th>\n",
       "    </tr>\n",
       "  </thead>\n",
       "  <tbody>\n",
       "    <tr>\n",
       "      <th>count</th>\n",
       "      <td>249.000000</td>\n",
       "      <td>79.000000</td>\n",
       "    </tr>\n",
       "    <tr>\n",
       "      <th>mean</th>\n",
       "      <td>20.144578</td>\n",
       "      <td>30.481013</td>\n",
       "    </tr>\n",
       "    <tr>\n",
       "      <th>std</th>\n",
       "      <td>6.414699</td>\n",
       "      <td>6.107710</td>\n",
       "    </tr>\n",
       "    <tr>\n",
       "      <th>min</th>\n",
       "      <td>9.000000</td>\n",
       "      <td>18.000000</td>\n",
       "    </tr>\n",
       "    <tr>\n",
       "      <th>25%</th>\n",
       "      <td>15.000000</td>\n",
       "      <td>25.500000</td>\n",
       "    </tr>\n",
       "    <tr>\n",
       "      <th>50%</th>\n",
       "      <td>19.000000</td>\n",
       "      <td>32.000000</td>\n",
       "    </tr>\n",
       "    <tr>\n",
       "      <th>75%</th>\n",
       "      <td>24.000000</td>\n",
       "      <td>34.000000</td>\n",
       "    </tr>\n",
       "    <tr>\n",
       "      <th>max</th>\n",
       "      <td>39.000000</td>\n",
       "      <td>47.000000</td>\n",
       "    </tr>\n",
       "  </tbody>\n",
       "</table>\n",
       "</div>"
      ],
      "text/plain": [
       "       Current fleet  New Fleet\n",
       "count     249.000000  79.000000\n",
       "mean       20.144578  30.481013\n",
       "std         6.414699   6.107710\n",
       "min         9.000000  18.000000\n",
       "25%        15.000000  25.500000\n",
       "50%        19.000000  32.000000\n",
       "75%        24.000000  34.000000\n",
       "max        39.000000  47.000000"
      ]
     },
     "execution_count": 10,
     "metadata": {},
     "output_type": "execute_result"
    }
   ],
   "source": [
    "df.describe()"
   ]
  },
  {
   "cell_type": "code",
   "execution_count": 11,
   "metadata": {},
   "outputs": [
    {
     "name": "stdout",
     "output_type": "stream",
     "text": [
      "[18. 15. 18. 16. 17. 15. 14. 14. 14. 15. 15. 14. 15. 14. 22. 18. 21. 21.\n",
      " 10. 10. 11.  9. 28. 25. 19. 16. 17. 19. 18. 14. 14. 14. 14. 12. 13. 13.\n",
      " 18. 22. 19. 18. 23. 26. 25. 20. 21. 13. 14. 15. 14. 17. 11. 13. 12. 13.\n",
      " 15. 13. 13. 14. 22. 28. 13. 14. 13. 14. 15. 12. 13. 13. 14. 13. 12. 13.\n",
      " 18. 16. 18. 18. 23. 11. 12. 13. 12. 18. 21. 19. 21. 15. 16. 15. 11. 20.\n",
      " 21. 19. 15. 26. 25. 16. 16. 18. 16. 13. 14. 14. 14. 28. 19. 18. 15. 15.\n",
      " 16. 15. 16. 14. 17. 16. 15. 18. 21. 20. 13. 23. 20. 23. 18. 19. 25. 26.\n",
      " 18. 16. 16. 15. 22. 22. 24. 23. 29. 25. 20. 18. 19. 18. 27. 13. 17. 13.\n",
      " 13. 13. 30. 26. 18. 17. 16. 15. 18. 21. 19. 19. 16. 16. 16. 16. 25. 26.\n",
      " 31. 34. 36. 20. 19. 20. 19. 21. 20. 25. 21. 19. 21. 21. 19. 18. 19. 18.\n",
      " 18. 18. 30. 31. 23. 24. 22. 20. 22. 20. 21. 17. 18. 17. 18. 17. 16. 19.\n",
      " 19. 36. 27. 23. 24. 34. 35. 28. 29. 27. 34. 32. 28. 26. 24. 19. 28. 24.\n",
      " 27. 27. 26. 24. 30. 39. 35. 34. 30. 22. 27. 20. 18. 28. 27. 34. 31. 29.\n",
      " 27. 24. 23. 38. 36. 25. 38. 26. 22. 36. 27. 27. 32. 28. 31.]\n"
     ]
    }
   ],
   "source": [
    "current = df.values.T[0]\n",
    "print(current)"
   ]
  },
  {
   "cell_type": "code",
   "execution_count": 14,
   "metadata": {},
   "outputs": [
    {
     "name": "stdout",
     "output_type": "stream",
     "text": [
      "[24. 27. 27. 25. 31. 35. 24. 19. 28. 23. 27. 20. 22. 18. 20. 31. 32. 31.\n",
      " 32. 24. 26. 29. 24. 24. 33. 33. 32. 28. 19. 32. 34. 26. 30. 22. 22. 33.\n",
      " 39. 36. 28. 27. 21. 24. 30. 34. 32. 38. 37. 30. 31. 37. 32. 47. 41. 45.\n",
      " 34. 33. 24. 32. 39. 35. 32. 37. 38. 34. 34. 32. 33. 32. 25. 24. 37. 31.\n",
      " 36. 36. 34. 38. 32. 38. 32.]\n"
     ]
    }
   ],
   "source": [
    "new_fleet = df.values.T[1]\n",
    "new_fleet = new_fleet[~np.isnan(new_fleet)]\n",
    "print(new_fleet)"
   ]
  },
  {
   "cell_type": "code",
   "execution_count": 16,
   "metadata": {},
   "outputs": [
    {
     "data": {
      "image/png": "[encoded data removed]",
      "text/plain": [
       "<Figure size 425.125x360 with 1 Axes>"
      ]
     },
     "metadata": {
      "needs_background": "light"
     },
     "output_type": "display_data"
    }
   ],
   "source": [
    "boots = []\n",
    "for i in range(100, 50000, 1000):\n",
    "    boot = bootstrap_mean_ci(current, current.shape[0], i, 90)\n",
    "    boots.append([i, boot[0], \"mean\"])\n",
    "    boots.append([i, boot[1], \"lower\"])\n",
    "    boots.append([i, boot[2], \"upper\"])\n",
    "\n",
    "df_boot = pd.DataFrame(boots, columns=['Boostrap Iterations', 'Mean', \"Value\"])\n",
    "sns_plot = sns.lmplot(x=df_boot.columns[0], y=df_boot.columns[1], data=df_boot, fit_reg=False, hue=\"Value\")\n",
    "\n",
    "#sns_plot.axes[0, 0].set_ylim(6,12)\n",
    "#sns_plot.axes[0, 0].set_xlim(0, 50000)\n",
    "\n",
    "#sns_plot.savefig(\"bootstrap_confidence_80.pdf\", bbox_inches='tight')"
   ]
  },
  {
   "cell_type": "code",
   "execution_count": 17,
   "metadata": {},
   "outputs": [
    {
     "data": {
      "image/png": "[encoded data removed]",
      "text/plain": [
       "<Figure size 425.125x360 with 1 Axes>"
      ]
     },
     "metadata": {
      "needs_background": "light"
     },
     "output_type": "display_data"
    }
   ],
   "source": [
    "boots = []\n",
    "for i in range(100, 50000, 1000):\n",
    "    boot = bootstrap_mean_ci(new_fleet, new_fleet.shape[0], i, 90)\n",
    "    boots.append([i, boot[0], \"mean\"])\n",
    "    boots.append([i, boot[1], \"lower\"])\n",
    "    boots.append([i, boot[2], \"upper\"])\n",
    "\n",
    "df_boot = pd.DataFrame(boots, columns=['Boostrap Iterations', 'Mean', \"Value\"])\n",
    "sns_plot = sns.lmplot(x=df_boot.columns[0], y=df_boot.columns[1], data=df_boot, fit_reg=False, hue=\"Value\")\n",
    "\n",
    "#sns_plot.axes[0, 0].set_ylim(6,12)\n",
    "#sns_plot.axes[0, 0].set_xlim(0, 50000)\n",
    "\n",
    "#sns_plot.savefig(\"bootstrap_confidence_80.pdf\", bbox_inches='tight')"
   ]
  },
  {
   "cell_type": "markdown",
   "metadata": {
    "id": "B5d0tXDpIEj8"
   },
   "source": [
    "## Compare the two fleets\n",
    "\n",
    "The business analysts come up a comparison algorithm that requires the upper and lower bounds for the mean in order to say which fleet is better.\n",
    "1. Calculate the mean of both samples.\n",
    "2. Using the bootstrap function that you created:\n",
    "    - Construct the 95% CI of the mean of the current fleet.\n",
    "    - Construct the 95% CI of the mean of the new fleet.\n",
    "    - Are they comparable? (i.e., is one better than the other?) -- you can do this with a permutation test (check the lecture notes!)"
   ]
  },
  {
   "cell_type": "code",
   "execution_count": 23,
   "metadata": {
    "id": "po4mp6zRHC0m"
   },
   "outputs": [
    {
     "name": "stdout",
     "output_type": "stream",
     "text": [
      "Mean of current fleet\n",
      "20.14457831325301\n"
     ]
    }
   ],
   "source": [
    "# <---INSERT YOUR CODE HERE--->\n",
    "print('Mean of current fleet')\n",
    "print(np.mean(current))"
   ]
  },
  {
   "cell_type": "code",
   "execution_count": 24,
   "metadata": {},
   "outputs": [
    {
     "name": "stdout",
     "output_type": "stream",
     "text": [
      "Mean of new fleet\n",
      "30.481012658227847\n"
     ]
    }
   ],
   "source": [
    "print('Mean of new fleet')\n",
    "print(np.mean(new_fleet))"
   ]
  },
  {
   "cell_type": "code",
   "execution_count": 25,
   "metadata": {},
   "outputs": [
    {
     "name": "stdout",
     "output_type": "stream",
     "text": [
      "95% CI Mean of the current fleet\n",
      "(20.141815261044176, 19.36144578313253, 20.967871485943775)\n"
     ]
    }
   ],
   "source": [
    "print('95% CI Mean of the current fleet')\n",
    "print(bootstrap_mean_ci(current, current.shape[0], 10000, 95))"
   ]
  },
  {
   "cell_type": "code",
   "execution_count": 26,
   "metadata": {},
   "outputs": [
    {
     "name": "stdout",
     "output_type": "stream",
     "text": [
      "95% CI Mean of the new fleet\n",
      "(30.46598101265823, 29.17721518987342, 31.810126582278482)\n"
     ]
    }
   ],
   "source": [
    "print('95% CI Mean of the new fleet')\n",
    "print(bootstrap_mean_ci(new_fleet, new_fleet.shape[0], 10000, 95))"
   ]
  },
  {
   "cell_type": "code",
   "execution_count": 44,
   "metadata": {
    "id": "MkxvDZG4HC0n"
   },
   "outputs": [],
   "source": [
    "# Create your own function for a permutation test here (you will need it for the lab quiz!):\n",
    "def permut_test(sample1, sample2, n_permutations):\n",
    "    \"\"\"\n",
    "    sample1: 1D array\n",
    "    sample2: 1D array (note that the size of the two arrays can be different)\n",
    "    n_permutations: number of permutations to calculate the p-value\n",
    "    \"\"\"\n",
    "    originalP = np.mean(sample2) - np.mean(sample1)\n",
    "    concatArray = np.append(sample1, sample2)\n",
    "    \n",
    "    pvalue = 0.0\n",
    "    for i in range(n_permutations):\n",
    "        perm = np.random.permutation(concatArray)\n",
    "        pold = perm[:int(len(perm)/2)]\n",
    "        pnew = perm[int(len(perm)/2):]\n",
    "        permP = np.mean(pnew) - np.mean(pold)\n",
    "        if permP > originalP:\n",
    "            pvalue = pvalue + 1\n",
    "    pvalue = pvalue / n_permutations\n",
    "    return pvalue"
   ]
  },
  {
   "cell_type": "code",
   "execution_count": 45,
   "metadata": {},
   "outputs": [
    {
     "data": {
      "text/plain": [
       "0.0"
      ]
     },
     "execution_count": 45,
     "metadata": {},
     "output_type": "execute_result"
    }
   ],
   "source": [
    "permut_test(current, new_fleet, 10)"
   ]
  },
  {
   "cell_type": "markdown",
   "metadata": {},
   "source": [
    "# Quiz Questions"
   ]
  },
  {
   "cell_type": "markdown",
   "metadata": {},
   "source": [
    "Customer Dataset, Mean, 80% CI, 10000 iterations *(correct)*"
   ]
  },
  {
   "cell_type": "code",
   "execution_count": 47,
   "metadata": {},
   "outputs": [
    {
     "data": {
      "text/plain": [
       "(9.23632857142857, 7.357142857142857, 11.214285714285714)"
      ]
     },
     "execution_count": 47,
     "metadata": {},
     "output_type": "execute_result"
    }
   ],
   "source": [
    "df = pd.read_csv('customers.csv')\n",
    "data = df.values.T[1]\n",
    "bootstrap_mean_ci(data, data.shape[0], 10000, 80)"
   ]
  },
  {
   "cell_type": "markdown",
   "metadata": {},
   "source": [
    "Vehicles Old Fleet, Mean, 80% CI, 10000 Iterations *(correct)*"
   ]
  },
  {
   "cell_type": "code",
   "execution_count": 48,
   "metadata": {},
   "outputs": [
    {
     "data": {
      "text/plain": [
       "(20.147124899598392, 19.634538152610443, 20.663052208835342)"
      ]
     },
     "execution_count": 48,
     "metadata": {},
     "output_type": "execute_result"
    }
   ],
   "source": [
    "bootstrap_mean_ci(current, current.shape[0], 10000, 80)"
   ]
  },
  {
   "cell_type": "markdown",
   "metadata": {},
   "source": [
    "Vehicles New Fleet, Mean, 95% CI, 10000 iterations"
   ]
  },
  {
   "cell_type": "code",
   "execution_count": 68,
   "metadata": {},
   "outputs": [
    {
     "data": {
      "text/plain": [
       "(30.481813924050634, 29.164556962025316, 31.835443037974684)"
      ]
     },
     "execution_count": 68,
     "metadata": {},
     "output_type": "execute_result"
    }
   ],
   "source": [
    "bootstrap_mean_ci(new_fleet, new_fleet.shape[0], 10000, 95)"
   ]
  },
  {
   "cell_type": "markdown",
   "metadata": {},
   "source": [
    "Customer Dataset, Mean, 90% CI, 10000 iterations"
   ]
  },
  {
   "cell_type": "code",
   "execution_count": 69,
   "metadata": {},
   "outputs": [
    {
     "data": {
      "text/plain": [
       "(9.233514285714286, 6.857142857142857, 11.857142857142858)"
      ]
     },
     "execution_count": 69,
     "metadata": {},
     "output_type": "execute_result"
    }
   ],
   "source": [
    "bootstrap_mean_ci(data, data.shape[0], 10000, 90)"
   ]
  },
  {
   "cell_type": "markdown",
   "metadata": {},
   "source": [
    "Vehicles Old Fleet, STD, 99% CI, 10000 Iterations *(correct)*"
   ]
  },
  {
   "cell_type": "code",
   "execution_count": 49,
   "metadata": {},
   "outputs": [],
   "source": [
    "def bootstrap_std_ci(sample, sample_size, n_bootstraps, ci):\n",
    "    bootstraps = np.random.choice(a=sample, size=(n_bootstraps,sample_size))\n",
    "    data_std = np.std(bootstraps)\n",
    "    bootstrap_std = np.std(bootstraps, axis = 1)\n",
    "    lower = np.percentile(bootstrap_std, q=(100 - ci) / 2)\n",
    "    upper = np.percentile(bootstrap_std, q=100 - (100 - ci) / 2)\n",
    "    return data_std, lower, upper"
   ]
  },
  {
   "cell_type": "code",
   "execution_count": 50,
   "metadata": {},
   "outputs": [
    {
     "data": {
      "text/plain": [
       "(6.401213024954097, 5.625520482521118, 7.12002473083508)"
      ]
     },
     "execution_count": 50,
     "metadata": {},
     "output_type": "execute_result"
    }
   ],
   "source": [
    "bootstrap_std_ci(current, current.shape[0], 10000, 99)"
   ]
  },
  {
   "cell_type": "markdown",
   "metadata": {},
   "source": [
    "Customers Dataset, STD, 99% CI, 10000 *(incorrect, was 95% CI)*"
   ]
  },
  {
   "cell_type": "code",
   "execution_count": 51,
   "metadata": {},
   "outputs": [
    {
     "data": {
      "text/plain": [
       "(5.692690500948724, 2.2187910665379604, 7.8714220891733735)"
      ]
     },
     "execution_count": 51,
     "metadata": {},
     "output_type": "execute_result"
    }
   ],
   "source": [
    "bootstrap_std_ci(data, data.shape[0], 10000, 99)"
   ]
  },
  {
   "cell_type": "markdown",
   "metadata": {},
   "source": [
    "Customers Dataset, STD, 90% CI, 10000"
   ]
  },
  {
   "cell_type": "code",
   "execution_count": 70,
   "metadata": {},
   "outputs": [
    {
     "data": {
      "text/plain": [
       "(5.681677709092624, 3.0572763655760995, 7.120249828757284)"
      ]
     },
     "execution_count": 70,
     "metadata": {},
     "output_type": "execute_result"
    }
   ],
   "source": [
    "bootstrap_std_ci(data, data.shape[0], 10000, 90)"
   ]
  },
  {
   "cell_type": "markdown",
   "metadata": {},
   "source": [
    "Vehicles Old Fleet, STD, 73% CI, 10000"
   ]
  },
  {
   "cell_type": "code",
   "execution_count": null,
   "metadata": {},
   "outputs": [
    {
     "data": {
      "text/plain": [
       "(6.39936048412833, 6.064057364802126, 6.6949845059631405)"
      ]
     },
     "execution_count": 71,
     "metadata": {},
     "output_type": "execute_result"
    }
   ],
   "source": [
    "bootstrap_std_ci(current, current.shape[0], 10000, 73)"
   ]
  },
  {
   "cell_type": "markdown",
   "metadata": {},
   "source": [
    "Question 7, Vehicle Dataset *(correct)*"
   ]
  },
  {
   "cell_type": "code",
   "execution_count": 52,
   "metadata": {},
   "outputs": [
    {
     "data": {
      "text/plain": [
       "0.0"
      ]
     },
     "execution_count": 52,
     "metadata": {},
     "output_type": "execute_result"
    }
   ],
   "source": [
    "permut_test(current, new_fleet, 30000)"
   ]
  },
  {
   "cell_type": "markdown",
   "metadata": {},
   "source": [
    "Question 8, Voting Data *(correct)*"
   ]
  },
  {
   "cell_type": "code",
   "execution_count": 57,
   "metadata": {},
   "outputs": [],
   "source": [
    "dem_share_PA = [60.08, 40.64, 36.07, 41.21, 31.04, 43.78, 44.08, 46.85, 44.71, 46.15, 63.10, 52.20, 43.18, 40.24, 39.92, 47.87, 37.77, 40.11, 49.85, 48.61, 38.62, 54.25, 34.84, 47.75, 43.82, 55.97, 58.23, 42.97, 42.38, 36.11, 37.53, 42.65, 50.96, 47.43, 56.24, 45.60, 46.39, 35.22, 48.56, 32.97, 57.88, 36.05, 37.72, 50.36, 32.12, 41.55, 54.66, 57.81, 54.58, 32.88, 54.37, 40.45, 47.61, 60.49, 43.11, 27.32, 44.03, 33.56, 37.26, 54.64, 43.12, 25.34, 49.79, 83.56, 40.09, 60.81, 49.81]\n",
    "dem_share_OH = [56.94, 50.46, 65.99, 45.88, 42.23, 45.26, 57.01, 53.61, 59.10, 61.48, 43.43, 44.69, 54.59, 48.36, 45.89, 48.62, 43.92, 38.23, 28.79, 63.57, 38.07, 40.18, 43.05, 41.56, 42.49, 36.06, 52.76, 46.07, 39.43, 39.26, 47.47, 27.92, 38.01, 45.45, 29.07, 28.94, 51.28, 50.10, 39.84, 36.43, 35.71, 31.47, 47.01, 40.10, 48.76, 31.56, 39.86, 45.31, 35.47, 51.38, 46.33, 48.73, 41.77, 41.32, 48.46, 53.14, 34.01, 54.74, 40.67, 38.96, 46.29, 38.25, 6.80, 31.75, 46.33, 44.90, 33.57, 38.10, 39.67, 40.47, 49.44, 37.62, 36.71, 46.73, 42.20, 53.16, 52.40, 58.36, 68.02, 38.53, 34.58, 69.64, 60.50, 53.53, 36.54, 49.58, 41.97, 38.11]\n",
    "dem_share_PA = np.asarray(dem_share_PA)\n",
    "dem_share_OH = np.asarray(dem_share_OH)"
   ]
  },
  {
   "cell_type": "code",
   "execution_count": 58,
   "metadata": {},
   "outputs": [
    {
     "data": {
      "text/plain": [
       "67"
      ]
     },
     "execution_count": 58,
     "metadata": {},
     "output_type": "execute_result"
    }
   ],
   "source": [
    "len(dem_share_PA)"
   ]
  },
  {
   "cell_type": "code",
   "execution_count": 59,
   "metadata": {},
   "outputs": [
    {
     "data": {
      "text/plain": [
       "88"
      ]
     },
     "execution_count": 59,
     "metadata": {},
     "output_type": "execute_result"
    }
   ],
   "source": [
    "len(dem_share_OH)"
   ]
  },
  {
   "cell_type": "code",
   "execution_count": 73,
   "metadata": {},
   "outputs": [
    {
     "data": {
      "text/plain": [
       "(44.32164261818182, 42.600784090909094, 46.02548295454545)"
      ]
     },
     "execution_count": 73,
     "metadata": {},
     "output_type": "execute_result"
    }
   ],
   "source": [
    "bootstrap_mean_ci(dem_share_OH, dem_share_OH.shape[0], 25000, 90)"
   ]
  },
  {
   "cell_type": "code",
   "execution_count": 74,
   "metadata": {},
   "outputs": [
    {
     "data": {
      "text/plain": [
       "(45.47227909253729, 43.567604477611944, 47.44270149253731)"
      ]
     },
     "execution_count": 74,
     "metadata": {},
     "output_type": "execute_result"
    }
   ],
   "source": [
    "bootstrap_mean_ci(dem_share_PA, dem_share_PA.shape[0], 25000, 90)"
   ]
  },
  {
   "cell_type": "code",
   "execution_count": 75,
   "metadata": {},
   "outputs": [
    {
     "data": {
      "text/plain": [
       "0.23595"
      ]
     },
     "execution_count": 75,
     "metadata": {},
     "output_type": "execute_result"
    }
   ],
   "source": [
    "permut_test(dem_share_OH, dem_share_PA, 20000)"
   ]
  },
  {
   "cell_type": "code",
   "execution_count": null,
   "metadata": {},
   "outputs": [],
   "source": []
  }
 ],
 "metadata": {
  "colab": {
   "include_colab_link": true,
   "name": "bootstrap.ipynb",
   "provenance": []
  },
  "kernelspec": {
   "display_name": "Python 3 (ipykernel)",
   "language": "python",
   "name": "python3"
  },
  "language_info": {
   "codemirror_mode": {
    "name": "ipython",
    "version": 3
   },
   "file_extension": ".py",
   "mimetype": "text/x-python",
   "name": "python",
   "nbconvert_exporter": "python",
   "pygments_lexer": "ipython3",
   "version": "3.9.5"
  },
  "pycharm": {
   "stem_cell": {
    "cell_type": "raw",
    "metadata": {
     "collapsed": false
    },
    "source": []
   }
  }
 },
 "nbformat": 4,
 "nbformat_minor": 4
}
