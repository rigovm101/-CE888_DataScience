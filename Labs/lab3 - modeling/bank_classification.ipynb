{
 "cells": [
  {
   "cell_type": "markdown",
   "id": "60cd976d-5bfb-4b2b-82e1-112c829ea8da",
   "metadata": {},
   "source": [
    "# Lab 3\n",
    "## Imports"
   ]
  },
  {
   "cell_type": "code",
   "execution_count": 1,
   "id": "a3a58c69-f9f3-4b7c-b6e8-3dd86815f75f",
   "metadata": {},
   "outputs": [],
   "source": [
    "import matplotlib\n",
    "import numpy as np\n",
    "import matplotlib.pyplot as plt\n",
    "import pandas as pd\n",
    "import seaborn as sns\n",
    "\n",
    "from sklearn.preprocessing import LabelEncoder, OneHotEncoder\n",
    "\n",
    "from sklearn.model_selection import train_test_split, StratifiedShuffleSplit, cross_val_score, GridSearchCV\n",
    "from sklearn.ensemble import RandomForestClassifier\n",
    "\n",
    "from sklearn.metrics import mean_squared_error as mse\n",
    "from sklearn.metrics import mean_absolute_error as mae\n",
    "from sklearn.metrics import accuracy_score as acc\n",
    "from sklearn.metrics import make_scorer, confusion_matrix, f1_score\n",
    "\n",
    "from sklearn.dummy import DummyClassifier"
   ]
  },
  {
   "cell_type": "markdown",
   "id": "fed7d98c-2e58-4462-94d2-d0adde9959ca",
   "metadata": {},
   "source": [
    "## Data Loading and Pre-processing\n",
    "- Use LabelEncoder to convert the label into numbers.\n",
    "- Perform one-hot encoding on the categorical features using df_dummies = pd.get_dummies(df)\n",
    "- Column \"duration\" must be deleted\n",
    "- Check if there are any missing values in the dataset. If there are, drop the rows.\n",
    "- Plot histogram of the label and calculate the imbalance in the dataset."
   ]
  },
  {
   "cell_type": "code",
   "execution_count": 2,
   "id": "fd55bb06-21ed-428b-ac85-01ed7181dbae",
   "metadata": {},
   "outputs": [
    {
     "data": {
      "text/html": [
       "<div>\n",
       "<style scoped>\n",
       "    .dataframe tbody tr th:only-of-type {\n",
       "        vertical-align: middle;\n",
       "    }\n",
       "\n",
       "    .dataframe tbody tr th {\n",
       "        vertical-align: top;\n",
       "    }\n",
       "\n",
       "    .dataframe thead th {\n",
       "        text-align: right;\n",
       "    }\n",
       "</style>\n",
       "<table border=\"1\" class=\"dataframe\">\n",
       "  <thead>\n",
       "    <tr style=\"text-align: right;\">\n",
       "      <th></th>\n",
       "      <th>age</th>\n",
       "      <th>job</th>\n",
       "      <th>marital</th>\n",
       "      <th>education</th>\n",
       "      <th>default</th>\n",
       "      <th>housing</th>\n",
       "      <th>loan</th>\n",
       "      <th>contact</th>\n",
       "      <th>month</th>\n",
       "      <th>day_of_week</th>\n",
       "      <th>...</th>\n",
       "      <th>campaign</th>\n",
       "      <th>pdays</th>\n",
       "      <th>previous</th>\n",
       "      <th>poutcome</th>\n",
       "      <th>emp.var.rate</th>\n",
       "      <th>cons.price.idx</th>\n",
       "      <th>cons.conf.idx</th>\n",
       "      <th>euribor3m</th>\n",
       "      <th>nr.employed</th>\n",
       "      <th>y</th>\n",
       "    </tr>\n",
       "  </thead>\n",
       "  <tbody>\n",
       "    <tr>\n",
       "      <th>0</th>\n",
       "      <td>56</td>\n",
       "      <td>housemaid</td>\n",
       "      <td>married</td>\n",
       "      <td>basic.4y</td>\n",
       "      <td>no</td>\n",
       "      <td>no</td>\n",
       "      <td>no</td>\n",
       "      <td>telephone</td>\n",
       "      <td>may</td>\n",
       "      <td>mon</td>\n",
       "      <td>...</td>\n",
       "      <td>1</td>\n",
       "      <td>999</td>\n",
       "      <td>0</td>\n",
       "      <td>nonexistent</td>\n",
       "      <td>1.1</td>\n",
       "      <td>93.994</td>\n",
       "      <td>-36.4</td>\n",
       "      <td>4.857</td>\n",
       "      <td>5191.0</td>\n",
       "      <td>no</td>\n",
       "    </tr>\n",
       "    <tr>\n",
       "      <th>1</th>\n",
       "      <td>57</td>\n",
       "      <td>services</td>\n",
       "      <td>married</td>\n",
       "      <td>high.school</td>\n",
       "      <td>unknown</td>\n",
       "      <td>no</td>\n",
       "      <td>no</td>\n",
       "      <td>telephone</td>\n",
       "      <td>may</td>\n",
       "      <td>mon</td>\n",
       "      <td>...</td>\n",
       "      <td>1</td>\n",
       "      <td>999</td>\n",
       "      <td>0</td>\n",
       "      <td>nonexistent</td>\n",
       "      <td>1.1</td>\n",
       "      <td>93.994</td>\n",
       "      <td>-36.4</td>\n",
       "      <td>4.857</td>\n",
       "      <td>5191.0</td>\n",
       "      <td>no</td>\n",
       "    </tr>\n",
       "    <tr>\n",
       "      <th>2</th>\n",
       "      <td>37</td>\n",
       "      <td>services</td>\n",
       "      <td>married</td>\n",
       "      <td>high.school</td>\n",
       "      <td>no</td>\n",
       "      <td>yes</td>\n",
       "      <td>no</td>\n",
       "      <td>telephone</td>\n",
       "      <td>may</td>\n",
       "      <td>mon</td>\n",
       "      <td>...</td>\n",
       "      <td>1</td>\n",
       "      <td>999</td>\n",
       "      <td>0</td>\n",
       "      <td>nonexistent</td>\n",
       "      <td>1.1</td>\n",
       "      <td>93.994</td>\n",
       "      <td>-36.4</td>\n",
       "      <td>4.857</td>\n",
       "      <td>5191.0</td>\n",
       "      <td>no</td>\n",
       "    </tr>\n",
       "    <tr>\n",
       "      <th>3</th>\n",
       "      <td>40</td>\n",
       "      <td>admin.</td>\n",
       "      <td>married</td>\n",
       "      <td>basic.6y</td>\n",
       "      <td>no</td>\n",
       "      <td>no</td>\n",
       "      <td>no</td>\n",
       "      <td>telephone</td>\n",
       "      <td>may</td>\n",
       "      <td>mon</td>\n",
       "      <td>...</td>\n",
       "      <td>1</td>\n",
       "      <td>999</td>\n",
       "      <td>0</td>\n",
       "      <td>nonexistent</td>\n",
       "      <td>1.1</td>\n",
       "      <td>93.994</td>\n",
       "      <td>-36.4</td>\n",
       "      <td>4.857</td>\n",
       "      <td>5191.0</td>\n",
       "      <td>no</td>\n",
       "    </tr>\n",
       "    <tr>\n",
       "      <th>4</th>\n",
       "      <td>56</td>\n",
       "      <td>services</td>\n",
       "      <td>married</td>\n",
       "      <td>high.school</td>\n",
       "      <td>no</td>\n",
       "      <td>no</td>\n",
       "      <td>yes</td>\n",
       "      <td>telephone</td>\n",
       "      <td>may</td>\n",
       "      <td>mon</td>\n",
       "      <td>...</td>\n",
       "      <td>1</td>\n",
       "      <td>999</td>\n",
       "      <td>0</td>\n",
       "      <td>nonexistent</td>\n",
       "      <td>1.1</td>\n",
       "      <td>93.994</td>\n",
       "      <td>-36.4</td>\n",
       "      <td>4.857</td>\n",
       "      <td>5191.0</td>\n",
       "      <td>no</td>\n",
       "    </tr>\n",
       "  </tbody>\n",
       "</table>\n",
       "<p>5 rows × 21 columns</p>\n",
       "</div>"
      ],
      "text/plain": [
       "   age        job  marital    education  default housing loan    contact  \\\n",
       "0   56  housemaid  married     basic.4y       no      no   no  telephone   \n",
       "1   57   services  married  high.school  unknown      no   no  telephone   \n",
       "2   37   services  married  high.school       no     yes   no  telephone   \n",
       "3   40     admin.  married     basic.6y       no      no   no  telephone   \n",
       "4   56   services  married  high.school       no      no  yes  telephone   \n",
       "\n",
       "  month day_of_week  ...  campaign  pdays  previous     poutcome emp.var.rate  \\\n",
       "0   may         mon  ...         1    999         0  nonexistent          1.1   \n",
       "1   may         mon  ...         1    999         0  nonexistent          1.1   \n",
       "2   may         mon  ...         1    999         0  nonexistent          1.1   \n",
       "3   may         mon  ...         1    999         0  nonexistent          1.1   \n",
       "4   may         mon  ...         1    999         0  nonexistent          1.1   \n",
       "\n",
       "   cons.price.idx  cons.conf.idx  euribor3m  nr.employed   y  \n",
       "0          93.994          -36.4      4.857       5191.0  no  \n",
       "1          93.994          -36.4      4.857       5191.0  no  \n",
       "2          93.994          -36.4      4.857       5191.0  no  \n",
       "3          93.994          -36.4      4.857       5191.0  no  \n",
       "4          93.994          -36.4      4.857       5191.0  no  \n",
       "\n",
       "[5 rows x 21 columns]"
      ]
     },
     "execution_count": 2,
     "metadata": {},
     "output_type": "execute_result"
    }
   ],
   "source": [
    "df = pd.read_csv(\"bank-additional-full.csv\", delimiter=\";\")\n",
    "df.head()"
   ]
  },
  {
   "cell_type": "code",
   "execution_count": 3,
   "id": "1f4b6591-0aff-4aa2-a264-fe9872c0244c",
   "metadata": {},
   "outputs": [
    {
     "name": "stdout",
     "output_type": "stream",
     "text": [
      "<class 'pandas.core.frame.DataFrame'>\n",
      "RangeIndex: 41188 entries, 0 to 41187\n",
      "Data columns (total 21 columns):\n",
      " #   Column          Non-Null Count  Dtype  \n",
      "---  ------          --------------  -----  \n",
      " 0   age             41188 non-null  int64  \n",
      " 1   job             41188 non-null  object \n",
      " 2   marital         41188 non-null  object \n",
      " 3   education       41188 non-null  object \n",
      " 4   default         41188 non-null  object \n",
      " 5   housing         41188 non-null  object \n",
      " 6   loan            41188 non-null  object \n",
      " 7   contact         41188 non-null  object \n",
      " 8   month           41188 non-null  object \n",
      " 9   day_of_week     41188 non-null  object \n",
      " 10  duration        41188 non-null  int64  \n",
      " 11  campaign        41188 non-null  int64  \n",
      " 12  pdays           41188 non-null  int64  \n",
      " 13  previous        41188 non-null  int64  \n",
      " 14  poutcome        41188 non-null  object \n",
      " 15  emp.var.rate    41188 non-null  float64\n",
      " 16  cons.price.idx  41188 non-null  float64\n",
      " 17  cons.conf.idx   41188 non-null  float64\n",
      " 18  euribor3m       41188 non-null  float64\n",
      " 19  nr.employed     41188 non-null  float64\n",
      " 20  y               41188 non-null  object \n",
      "dtypes: float64(5), int64(5), object(11)\n",
      "memory usage: 6.6+ MB\n"
     ]
    }
   ],
   "source": [
    "df.info()"
   ]
  },
  {
   "cell_type": "markdown",
   "id": "4d964d66-cf75-47d7-b3c9-d0a40a6a1299",
   "metadata": {},
   "source": [
    "**Use LabelEncoder to convert the label into numbers.**"
   ]
  },
  {
   "cell_type": "code",
   "execution_count": 4,
   "id": "e1719ca0-e67b-4eba-987c-7ad0e6a12245",
   "metadata": {},
   "outputs": [],
   "source": [
    "le = LabelEncoder()\n",
    "y_df = le.fit_transform(df['y'])\n",
    "y_df\n",
    "df = df.drop('y', axis=1)"
   ]
  },
  {
   "cell_type": "markdown",
   "id": "bb3728b3-408e-41ff-abbc-d4cf9136ae0a",
   "metadata": {},
   "source": [
    "**Perform one-hot encoding on the categorical features using df_dummies = pd.get_dummies(df)**"
   ]
  },
  {
   "cell_type": "code",
   "execution_count": 5,
   "id": "d68e1d68-9b2d-4aea-a721-f790d8c9b3d8",
   "metadata": {},
   "outputs": [
    {
     "name": "stdout",
     "output_type": "stream",
     "text": [
      "<class 'pandas.core.frame.DataFrame'>\n",
      "RangeIndex: 41188 entries, 0 to 41187\n",
      "Data columns (total 63 columns):\n",
      " #   Column                         Non-Null Count  Dtype  \n",
      "---  ------                         --------------  -----  \n",
      " 0   age                            41188 non-null  int64  \n",
      " 1   duration                       41188 non-null  int64  \n",
      " 2   campaign                       41188 non-null  int64  \n",
      " 3   pdays                          41188 non-null  int64  \n",
      " 4   previous                       41188 non-null  int64  \n",
      " 5   emp.var.rate                   41188 non-null  float64\n",
      " 6   cons.price.idx                 41188 non-null  float64\n",
      " 7   cons.conf.idx                  41188 non-null  float64\n",
      " 8   euribor3m                      41188 non-null  float64\n",
      " 9   nr.employed                    41188 non-null  float64\n",
      " 10  job_admin.                     41188 non-null  uint8  \n",
      " 11  job_blue-collar                41188 non-null  uint8  \n",
      " 12  job_entrepreneur               41188 non-null  uint8  \n",
      " 13  job_housemaid                  41188 non-null  uint8  \n",
      " 14  job_management                 41188 non-null  uint8  \n",
      " 15  job_retired                    41188 non-null  uint8  \n",
      " 16  job_self-employed              41188 non-null  uint8  \n",
      " 17  job_services                   41188 non-null  uint8  \n",
      " 18  job_student                    41188 non-null  uint8  \n",
      " 19  job_technician                 41188 non-null  uint8  \n",
      " 20  job_unemployed                 41188 non-null  uint8  \n",
      " 21  job_unknown                    41188 non-null  uint8  \n",
      " 22  marital_divorced               41188 non-null  uint8  \n",
      " 23  marital_married                41188 non-null  uint8  \n",
      " 24  marital_single                 41188 non-null  uint8  \n",
      " 25  marital_unknown                41188 non-null  uint8  \n",
      " 26  education_basic.4y             41188 non-null  uint8  \n",
      " 27  education_basic.6y             41188 non-null  uint8  \n",
      " 28  education_basic.9y             41188 non-null  uint8  \n",
      " 29  education_high.school          41188 non-null  uint8  \n",
      " 30  education_illiterate           41188 non-null  uint8  \n",
      " 31  education_professional.course  41188 non-null  uint8  \n",
      " 32  education_university.degree    41188 non-null  uint8  \n",
      " 33  education_unknown              41188 non-null  uint8  \n",
      " 34  default_no                     41188 non-null  uint8  \n",
      " 35  default_unknown                41188 non-null  uint8  \n",
      " 36  default_yes                    41188 non-null  uint8  \n",
      " 37  housing_no                     41188 non-null  uint8  \n",
      " 38  housing_unknown                41188 non-null  uint8  \n",
      " 39  housing_yes                    41188 non-null  uint8  \n",
      " 40  loan_no                        41188 non-null  uint8  \n",
      " 41  loan_unknown                   41188 non-null  uint8  \n",
      " 42  loan_yes                       41188 non-null  uint8  \n",
      " 43  contact_cellular               41188 non-null  uint8  \n",
      " 44  contact_telephone              41188 non-null  uint8  \n",
      " 45  month_apr                      41188 non-null  uint8  \n",
      " 46  month_aug                      41188 non-null  uint8  \n",
      " 47  month_dec                      41188 non-null  uint8  \n",
      " 48  month_jul                      41188 non-null  uint8  \n",
      " 49  month_jun                      41188 non-null  uint8  \n",
      " 50  month_mar                      41188 non-null  uint8  \n",
      " 51  month_may                      41188 non-null  uint8  \n",
      " 52  month_nov                      41188 non-null  uint8  \n",
      " 53  month_oct                      41188 non-null  uint8  \n",
      " 54  month_sep                      41188 non-null  uint8  \n",
      " 55  day_of_week_fri                41188 non-null  uint8  \n",
      " 56  day_of_week_mon                41188 non-null  uint8  \n",
      " 57  day_of_week_thu                41188 non-null  uint8  \n",
      " 58  day_of_week_tue                41188 non-null  uint8  \n",
      " 59  day_of_week_wed                41188 non-null  uint8  \n",
      " 60  poutcome_failure               41188 non-null  uint8  \n",
      " 61  poutcome_nonexistent           41188 non-null  uint8  \n",
      " 62  poutcome_success               41188 non-null  uint8  \n",
      "dtypes: float64(5), int64(5), uint8(53)\n",
      "memory usage: 5.2 MB\n"
     ]
    }
   ],
   "source": [
    "df_dummies = pd.get_dummies(df)\n",
    "df_dummies.info()"
   ]
  },
  {
   "cell_type": "markdown",
   "id": "c82a46d3-bdd6-4eb3-80ae-0741dda0a5d5",
   "metadata": {},
   "source": [
    "**Column \"duration\" must be deleted**"
   ]
  },
  {
   "cell_type": "code",
   "execution_count": 6,
   "id": "99870249-ccdc-4162-9c5b-462e149a2c15",
   "metadata": {},
   "outputs": [],
   "source": [
    "df_dummies = df_dummies.drop('duration', axis=1)"
   ]
  },
  {
   "cell_type": "markdown",
   "id": "ba48d648-4723-4be7-bffa-419061db9a35",
   "metadata": {},
   "source": [
    "**Check if there are any missing values in the dataset. If there are, drop the rows.**"
   ]
  },
  {
   "cell_type": "code",
   "execution_count": 7,
   "id": "48734fb6-609e-4d20-ab24-65239507a098",
   "metadata": {},
   "outputs": [
    {
     "name": "stdout",
     "output_type": "stream",
     "text": [
      "Number of rows before dropping NaNs: 41188\n",
      "Number of rows after dropping NaNs: 41188\n"
     ]
    }
   ],
   "source": [
    "print(\"Number of rows before dropping NaNs: %d\" % len(df_dummies))\n",
    "df = df_dummies.dropna()\n",
    "print(\"Number of rows after dropping NaNs: %d\" % len(df_dummies))"
   ]
  },
  {
   "cell_type": "markdown",
   "id": "ca09e0b9-4b2d-4067-9713-89337103c45c",
   "metadata": {},
   "source": [
    "**Plot histogram of the label and calculate the imbalance in the dataset.**"
   ]
  },
  {
   "cell_type": "code",
   "execution_count": 8,
   "id": "0af96db8-94af-4c35-a582-65b0de3d3eaa",
   "metadata": {},
   "outputs": [
    {
     "name": "stdout",
     "output_type": "stream",
     "text": [
      "0.11265417111780131\n"
     ]
    },
    {
     "data": {
      "image/png": "[encoded data removed]",
      "text/plain": [
       "<Figure size 432x288 with 1 Axes>"
      ]
     },
     "metadata": {
      "needs_background": "light"
     },
     "output_type": "display_data"
    }
   ],
   "source": [
    "sns.histplot(y_df, kde=False)\n",
    "_, counts = np.unique(y_df, return_counts=True)\n",
    "inbalance = counts[1] / (counts[0] + counts[1])\n",
    "print(inbalance)"
   ]
  },
  {
   "cell_type": "markdown",
   "id": "0d74b432-a44f-4916-a142-38ef09fb40e5",
   "metadata": {},
   "source": [
    "## Modeling the Data"
   ]
  },
  {
   "cell_type": "code",
   "execution_count": 9,
   "id": "93b50213-538c-4962-8371-4f33425c584b",
   "metadata": {},
   "outputs": [],
   "source": [
    "x = df_dummies.values\n",
    "y = y_df"
   ]
  },
  {
   "cell_type": "code",
   "execution_count": 10,
   "id": "dd5ed147-8414-4f88-9603-58357992bc2e",
   "metadata": {},
   "outputs": [
    {
     "name": "stdout",
     "output_type": "stream",
     "text": [
      "0.11198786039453718\n"
     ]
    }
   ],
   "source": [
    "x_train, x_test, y_train, y_test = train_test_split(x, y, test_size=0.2, random_state=50)\n",
    "_, counts = np.unique(y_train, return_counts=True)\n",
    "inbalance = counts[1] / (counts[0] + counts[1])\n",
    "print(inbalance)"
   ]
  },
  {
   "cell_type": "code",
   "execution_count": 11,
   "id": "d10a60e3-1ed1-45d5-8b6b-dd1f414ca1ad",
   "metadata": {},
   "outputs": [
    {
     "name": "stdout",
     "output_type": "stream",
     "text": [
      "0.1153192522456907\n"
     ]
    }
   ],
   "source": [
    "_, counts = np.unique(y_test, return_counts=True)\n",
    "inbalance = counts[1] / (counts[0] + counts[1])\n",
    "print(inbalance)"
   ]
  },
  {
   "cell_type": "markdown",
   "id": "082269a1-56d6-46ea-b21f-a264e18c94dd",
   "metadata": {},
   "source": [
    "### Random Forest Tree"
   ]
  },
  {
   "cell_type": "code",
   "execution_count": 12,
   "id": "0608f041-4d3e-4c76-bcd5-eebce04ac34f",
   "metadata": {},
   "outputs": [],
   "source": [
    "forest = RandomForestClassifier(max_depth=3)\n",
    "score = cross_val_score(forest, x_train, y_train, cv=10, scoring = make_scorer(f1_score))"
   ]
  },
  {
   "cell_type": "code",
   "execution_count": 29,
   "id": "a23816aa-05ff-4b26-bdd7-e60ec56e8294",
   "metadata": {},
   "outputs": [
    {
     "name": "stdout",
     "output_type": "stream",
     "text": [
      "0.28888888888888886\n"
     ]
    }
   ],
   "source": [
    "print(max(score))"
   ]
  },
  {
   "cell_type": "code",
   "execution_count": 14,
   "id": "27e343ad-2155-4814-bac1-d166c3944a28",
   "metadata": {},
   "outputs": [
    {
     "name": "stdout",
     "output_type": "stream",
     "text": [
      "Dummy ACC: 0.80\n"
     ]
    }
   ],
   "source": [
    "dummy_clf = DummyClassifier(strategy='stratified')\n",
    "dummy_clf.fit(x_train, y_train)\n",
    "print(\"Dummy ACC: %.2f\" % acc(y_train, dummy_clf.predict(x_train)))"
   ]
  },
  {
   "cell_type": "code",
   "execution_count": 15,
   "id": "9c36715f-4a2f-4598-95ad-7709b01fb7a6",
   "metadata": {},
   "outputs": [
    {
     "name": "stdout",
     "output_type": "stream",
     "text": [
      "Forest ACC: 0.90\n"
     ]
    }
   ],
   "source": [
    "forest.fit(x_train, y_train)\n",
    "print(\"Forest ACC: %.2f\" % acc(y_train, forest.predict(x_train)))"
   ]
  },
  {
   "cell_type": "markdown",
   "id": "abd9a7bc-d2da-420c-a66c-f66b2ccfa24b",
   "metadata": {},
   "source": [
    "### GridSearchCV"
   ]
  },
  {
   "cell_type": "code",
   "execution_count": 26,
   "id": "7ea8c3f9-9256-4566-8f36-d9b7ec4c77f0",
   "metadata": {},
   "outputs": [
    {
     "data": {
      "text/plain": [
       "['mean_fit_time',\n",
       " 'mean_score_time',\n",
       " 'mean_test_score',\n",
       " 'param_max_depth',\n",
       " 'param_n_estimators',\n",
       " 'params',\n",
       " 'rank_test_score',\n",
       " 'split0_test_score',\n",
       " 'split1_test_score',\n",
       " 'split2_test_score',\n",
       " 'split3_test_score',\n",
       " 'split4_test_score',\n",
       " 'std_fit_time',\n",
       " 'std_score_time',\n",
       " 'std_test_score']"
      ]
     },
     "execution_count": 26,
     "metadata": {},
     "output_type": "execute_result"
    }
   ],
   "source": [
    "forest = RandomForestClassifier(max_depth=3)\n",
    "parameters = {'n_estimators': [100],'max_depth': [3]}\n",
    "clf = GridSearchCV(forest, parameters)\n",
    "clf.fit(x_train, y_train)\n",
    "sorted(clf.cv_results_.keys())"
   ]
  },
  {
   "cell_type": "code",
   "execution_count": 27,
   "id": "e4552cfd-86be-42a5-a06d-0c3db42009c3",
   "metadata": {},
   "outputs": [
    {
     "data": {
      "text/plain": [
       "0.8948773974265598"
      ]
     },
     "execution_count": 27,
     "metadata": {},
     "output_type": "execute_result"
    }
   ],
   "source": [
    "clf.score(x_test, y_test)"
   ]
  },
  {
   "cell_type": "code",
   "execution_count": null,
   "id": "c2f19e5a-c241-49fc-abbe-c3ecdbda5203",
   "metadata": {},
   "outputs": [],
   "source": []
  }
 ],
 "metadata": {
  "kernelspec": {
   "display_name": "Python 3 (ipykernel)",
   "language": "python",
   "name": "python3"
  },
  "language_info": {
   "codemirror_mode": {
    "name": "ipython",
    "version": 3
   },
   "file_extension": ".py",
   "mimetype": "text/x-python",
   "name": "python",
   "nbconvert_exporter": "python",
   "pygments_lexer": "ipython3",
   "version": "3.9.5"
  }
 },
 "nbformat": 4,
 "nbformat_minor": 5
}
