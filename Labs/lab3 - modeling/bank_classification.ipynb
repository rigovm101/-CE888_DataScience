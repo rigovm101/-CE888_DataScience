{
 "cells": [
  {
   "cell_type": "markdown",
   "id": "60cd976d-5bfb-4b2b-82e1-112c829ea8da",
   "metadata": {},
   "source": [
    "# Lab 3\n",
    "## Bank Classification"
   ]
  },
  {
   "cell_type": "code",
   "execution_count": null,
   "id": "a3a58c69-f9f3-4b7c-b6e8-3dd86815f75f",
   "metadata": {},
   "outputs": [],
   "source": []
  }
 ],
 "metadata": {
  "kernelspec": {
   "display_name": "Python 3 (ipykernel)",
   "language": "python",
   "name": "python3"
  },
  "language_info": {
   "codemirror_mode": {
    "name": "ipython",
    "version": 3
   },
   "file_extension": ".py",
   "mimetype": "text/x-python",
   "name": "python",
   "nbconvert_exporter": "python",
   "pygments_lexer": "ipython3",
   "version": "3.9.5"
  }
 },
 "nbformat": 4,
 "nbformat_minor": 5
}
