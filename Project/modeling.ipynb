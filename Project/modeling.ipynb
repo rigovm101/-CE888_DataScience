{
 "cells": [
  {
   "cell_type": "markdown",
   "metadata": {},
   "source": [
    "# Modeling\n",
    "## Agrotech Project\n",
    "**Rigoberto Valadez Mena - 2100374**\n",
    "\n",
    "## Imports and Library Loading"
   ]
  },
  {
   "cell_type": "code",
   "execution_count": 27,
   "metadata": {},
   "outputs": [],
   "source": [
    "import numpy as np\n",
    "import matplotlib.pyplot as plt\n",
    "import pandas as pd\n",
    "from sklearn.multioutput import MultiOutputRegressor\n",
    "from sklearn.linear_model import LinearRegression\n",
    "from sklearn.tree import DecisionTreeRegressor\n",
    "from sklearn.ensemble import RandomForestRegressor, GradientBoostingRegressor\n",
    "from sklearn.model_selection import cross_validate"
   ]
  },
  {
   "cell_type": "code",
   "execution_count": 2,
   "metadata": {},
   "outputs": [
    {
     "data": {
      "text/html": [
       "<div>\n",
       "<style scoped>\n",
       "    .dataframe tbody tr th:only-of-type {\n",
       "        vertical-align: middle;\n",
       "    }\n",
       "\n",
       "    .dataframe tbody tr th {\n",
       "        vertical-align: top;\n",
       "    }\n",
       "\n",
       "    .dataframe thead th {\n",
       "        text-align: right;\n",
       "    }\n",
       "</style>\n",
       "<table border=\"1\" class=\"dataframe\">\n",
       "  <thead>\n",
       "    <tr style=\"text-align: right;\">\n",
       "      <th></th>\n",
       "      <th>class</th>\n",
       "      <th>freshWeight</th>\n",
       "      <th>headWeight</th>\n",
       "      <th>radialDiameter</th>\n",
       "      <th>polarDiameter</th>\n",
       "      <th>leafArea</th>\n",
       "      <th>volumePlanted</th>\n",
       "      <th>plantingWeek</th>\n",
       "      <th>meanSolarRadiation</th>\n",
       "      <th>totalPrecipitation</th>\n",
       "      <th>...</th>\n",
       "      <th>maxWindSpeed</th>\n",
       "      <th>batteryVoltage</th>\n",
       "      <th>leafWetness</th>\n",
       "      <th>meanAirTemp</th>\n",
       "      <th>maxAirTemp</th>\n",
       "      <th>minAirTemp</th>\n",
       "      <th>humidity</th>\n",
       "      <th>meanDewPoint</th>\n",
       "      <th>minDewPoint</th>\n",
       "      <th>eto</th>\n",
       "    </tr>\n",
       "  </thead>\n",
       "  <tbody>\n",
       "    <tr>\n",
       "      <th>0</th>\n",
       "      <td>2</td>\n",
       "      <td>213.0</td>\n",
       "      <td>13.0</td>\n",
       "      <td>55.0</td>\n",
       "      <td>55.0</td>\n",
       "      <td>730.0</td>\n",
       "      <td>155232.0</td>\n",
       "      <td>15</td>\n",
       "      <td>235.95</td>\n",
       "      <td>19.6</td>\n",
       "      <td>...</td>\n",
       "      <td>9.8</td>\n",
       "      <td>6886.0</td>\n",
       "      <td>1035.0</td>\n",
       "      <td>10.486</td>\n",
       "      <td>24.45</td>\n",
       "      <td>0.29</td>\n",
       "      <td>74.4195</td>\n",
       "      <td>5.21</td>\n",
       "      <td>2.14</td>\n",
       "      <td>62.2</td>\n",
       "    </tr>\n",
       "    <tr>\n",
       "      <th>1</th>\n",
       "      <td>5</td>\n",
       "      <td>179.0</td>\n",
       "      <td>10.0</td>\n",
       "      <td>40.0</td>\n",
       "      <td>40.0</td>\n",
       "      <td>643.0</td>\n",
       "      <td>155232.0</td>\n",
       "      <td>15</td>\n",
       "      <td>235.95</td>\n",
       "      <td>19.6</td>\n",
       "      <td>...</td>\n",
       "      <td>9.8</td>\n",
       "      <td>6886.0</td>\n",
       "      <td>1035.0</td>\n",
       "      <td>10.486</td>\n",
       "      <td>24.45</td>\n",
       "      <td>0.29</td>\n",
       "      <td>74.4195</td>\n",
       "      <td>5.21</td>\n",
       "      <td>2.14</td>\n",
       "      <td>62.2</td>\n",
       "    </tr>\n",
       "    <tr>\n",
       "      <th>2</th>\n",
       "      <td>5</td>\n",
       "      <td>183.0</td>\n",
       "      <td>13.0</td>\n",
       "      <td>50.0</td>\n",
       "      <td>50.0</td>\n",
       "      <td>647.0</td>\n",
       "      <td>155232.0</td>\n",
       "      <td>15</td>\n",
       "      <td>235.95</td>\n",
       "      <td>19.6</td>\n",
       "      <td>...</td>\n",
       "      <td>9.8</td>\n",
       "      <td>6886.0</td>\n",
       "      <td>1035.0</td>\n",
       "      <td>10.486</td>\n",
       "      <td>24.45</td>\n",
       "      <td>0.29</td>\n",
       "      <td>74.4195</td>\n",
       "      <td>5.21</td>\n",
       "      <td>2.14</td>\n",
       "      <td>62.2</td>\n",
       "    </tr>\n",
       "    <tr>\n",
       "      <th>3</th>\n",
       "      <td>3</td>\n",
       "      <td>176.0</td>\n",
       "      <td>7.0</td>\n",
       "      <td>40.0</td>\n",
       "      <td>40.0</td>\n",
       "      <td>694.0</td>\n",
       "      <td>155232.0</td>\n",
       "      <td>15</td>\n",
       "      <td>235.95</td>\n",
       "      <td>19.6</td>\n",
       "      <td>...</td>\n",
       "      <td>9.8</td>\n",
       "      <td>6886.0</td>\n",
       "      <td>1035.0</td>\n",
       "      <td>10.486</td>\n",
       "      <td>24.45</td>\n",
       "      <td>0.29</td>\n",
       "      <td>74.4195</td>\n",
       "      <td>5.21</td>\n",
       "      <td>2.14</td>\n",
       "      <td>62.2</td>\n",
       "    </tr>\n",
       "    <tr>\n",
       "      <th>4</th>\n",
       "      <td>1</td>\n",
       "      <td>192.0</td>\n",
       "      <td>22.0</td>\n",
       "      <td>70.0</td>\n",
       "      <td>70.0</td>\n",
       "      <td>730.0</td>\n",
       "      <td>155232.0</td>\n",
       "      <td>15</td>\n",
       "      <td>235.95</td>\n",
       "      <td>19.6</td>\n",
       "      <td>...</td>\n",
       "      <td>9.8</td>\n",
       "      <td>6886.0</td>\n",
       "      <td>1035.0</td>\n",
       "      <td>10.486</td>\n",
       "      <td>24.45</td>\n",
       "      <td>0.29</td>\n",
       "      <td>74.4195</td>\n",
       "      <td>5.21</td>\n",
       "      <td>2.14</td>\n",
       "      <td>62.2</td>\n",
       "    </tr>\n",
       "  </tbody>\n",
       "</table>\n",
       "<p>5 rows × 21 columns</p>\n",
       "</div>"
      ],
      "text/plain": [
       "   class  freshWeight  headWeight  radialDiameter  polarDiameter  leafArea  \\\n",
       "0      2        213.0        13.0            55.0           55.0     730.0   \n",
       "1      5        179.0        10.0            40.0           40.0     643.0   \n",
       "2      5        183.0        13.0            50.0           50.0     647.0   \n",
       "3      3        176.0         7.0            40.0           40.0     694.0   \n",
       "4      1        192.0        22.0            70.0           70.0     730.0   \n",
       "\n",
       "   volumePlanted  plantingWeek  meanSolarRadiation  totalPrecipitation  ...  \\\n",
       "0       155232.0            15              235.95                19.6  ...   \n",
       "1       155232.0            15              235.95                19.6  ...   \n",
       "2       155232.0            15              235.95                19.6  ...   \n",
       "3       155232.0            15              235.95                19.6  ...   \n",
       "4       155232.0            15              235.95                19.6  ...   \n",
       "\n",
       "   maxWindSpeed  batteryVoltage  leafWetness  meanAirTemp  maxAirTemp  \\\n",
       "0           9.8          6886.0       1035.0       10.486       24.45   \n",
       "1           9.8          6886.0       1035.0       10.486       24.45   \n",
       "2           9.8          6886.0       1035.0       10.486       24.45   \n",
       "3           9.8          6886.0       1035.0       10.486       24.45   \n",
       "4           9.8          6886.0       1035.0       10.486       24.45   \n",
       "\n",
       "   minAirTemp  humidity  meanDewPoint  minDewPoint   eto  \n",
       "0        0.29   74.4195          5.21         2.14  62.2  \n",
       "1        0.29   74.4195          5.21         2.14  62.2  \n",
       "2        0.29   74.4195          5.21         2.14  62.2  \n",
       "3        0.29   74.4195          5.21         2.14  62.2  \n",
       "4        0.29   74.4195          5.21         2.14  62.2  \n",
       "\n",
       "[5 rows x 21 columns]"
      ]
     },
     "execution_count": 2,
     "metadata": {},
     "output_type": "execute_result"
    }
   ],
   "source": [
    "df = pd.read_csv('processedData.csv')\n",
    "df.head()"
   ]
  },
  {
   "cell_type": "code",
   "execution_count": 3,
   "metadata": {},
   "outputs": [],
   "source": [
    "y = df[['headWeight', 'polarDiameter', 'radialDiameter']]\n",
    "x = df.drop(['headWeight', 'polarDiameter', 'radialDiameter'], axis=1)"
   ]
  },
  {
   "cell_type": "code",
   "execution_count": 4,
   "metadata": {},
   "outputs": [
    {
     "data": {
      "text/html": [
       "<div>\n",
       "<style scoped>\n",
       "    .dataframe tbody tr th:only-of-type {\n",
       "        vertical-align: middle;\n",
       "    }\n",
       "\n",
       "    .dataframe tbody tr th {\n",
       "        vertical-align: top;\n",
       "    }\n",
       "\n",
       "    .dataframe thead th {\n",
       "        text-align: right;\n",
       "    }\n",
       "</style>\n",
       "<table border=\"1\" class=\"dataframe\">\n",
       "  <thead>\n",
       "    <tr style=\"text-align: right;\">\n",
       "      <th></th>\n",
       "      <th>headWeight</th>\n",
       "      <th>polarDiameter</th>\n",
       "      <th>radialDiameter</th>\n",
       "    </tr>\n",
       "  </thead>\n",
       "  <tbody>\n",
       "    <tr>\n",
       "      <th>0</th>\n",
       "      <td>13.0</td>\n",
       "      <td>55.0</td>\n",
       "      <td>55.0</td>\n",
       "    </tr>\n",
       "    <tr>\n",
       "      <th>1</th>\n",
       "      <td>10.0</td>\n",
       "      <td>40.0</td>\n",
       "      <td>40.0</td>\n",
       "    </tr>\n",
       "    <tr>\n",
       "      <th>2</th>\n",
       "      <td>13.0</td>\n",
       "      <td>50.0</td>\n",
       "      <td>50.0</td>\n",
       "    </tr>\n",
       "    <tr>\n",
       "      <th>3</th>\n",
       "      <td>7.0</td>\n",
       "      <td>40.0</td>\n",
       "      <td>40.0</td>\n",
       "    </tr>\n",
       "    <tr>\n",
       "      <th>4</th>\n",
       "      <td>22.0</td>\n",
       "      <td>70.0</td>\n",
       "      <td>70.0</td>\n",
       "    </tr>\n",
       "    <tr>\n",
       "      <th>...</th>\n",
       "      <td>...</td>\n",
       "      <td>...</td>\n",
       "      <td>...</td>\n",
       "    </tr>\n",
       "    <tr>\n",
       "      <th>3231</th>\n",
       "      <td>188.0</td>\n",
       "      <td>85.0</td>\n",
       "      <td>120.0</td>\n",
       "    </tr>\n",
       "    <tr>\n",
       "      <th>3232</th>\n",
       "      <td>273.0</td>\n",
       "      <td>90.0</td>\n",
       "      <td>120.0</td>\n",
       "    </tr>\n",
       "    <tr>\n",
       "      <th>3233</th>\n",
       "      <td>203.0</td>\n",
       "      <td>92.0</td>\n",
       "      <td>115.0</td>\n",
       "    </tr>\n",
       "    <tr>\n",
       "      <th>3234</th>\n",
       "      <td>213.0</td>\n",
       "      <td>90.0</td>\n",
       "      <td>120.0</td>\n",
       "    </tr>\n",
       "    <tr>\n",
       "      <th>3235</th>\n",
       "      <td>283.0</td>\n",
       "      <td>93.0</td>\n",
       "      <td>130.0</td>\n",
       "    </tr>\n",
       "  </tbody>\n",
       "</table>\n",
       "<p>3236 rows × 3 columns</p>\n",
       "</div>"
      ],
      "text/plain": [
       "      headWeight  polarDiameter  radialDiameter\n",
       "0           13.0           55.0            55.0\n",
       "1           10.0           40.0            40.0\n",
       "2           13.0           50.0            50.0\n",
       "3            7.0           40.0            40.0\n",
       "4           22.0           70.0            70.0\n",
       "...          ...            ...             ...\n",
       "3231       188.0           85.0           120.0\n",
       "3232       273.0           90.0           120.0\n",
       "3233       203.0           92.0           115.0\n",
       "3234       213.0           90.0           120.0\n",
       "3235       283.0           93.0           130.0\n",
       "\n",
       "[3236 rows x 3 columns]"
      ]
     },
     "execution_count": 4,
     "metadata": {},
     "output_type": "execute_result"
    }
   ],
   "source": [
    "y"
   ]
  },
  {
   "cell_type": "code",
   "execution_count": 5,
   "metadata": {},
   "outputs": [
    {
     "data": {
      "text/html": [
       "<div>\n",
       "<style scoped>\n",
       "    .dataframe tbody tr th:only-of-type {\n",
       "        vertical-align: middle;\n",
       "    }\n",
       "\n",
       "    .dataframe tbody tr th {\n",
       "        vertical-align: top;\n",
       "    }\n",
       "\n",
       "    .dataframe thead th {\n",
       "        text-align: right;\n",
       "    }\n",
       "</style>\n",
       "<table border=\"1\" class=\"dataframe\">\n",
       "  <thead>\n",
       "    <tr style=\"text-align: right;\">\n",
       "      <th></th>\n",
       "      <th>class</th>\n",
       "      <th>freshWeight</th>\n",
       "      <th>leafArea</th>\n",
       "      <th>volumePlanted</th>\n",
       "      <th>plantingWeek</th>\n",
       "      <th>meanSolarRadiation</th>\n",
       "      <th>totalPrecipitation</th>\n",
       "      <th>meanWindSpeed</th>\n",
       "      <th>maxWindSpeed</th>\n",
       "      <th>batteryVoltage</th>\n",
       "      <th>leafWetness</th>\n",
       "      <th>meanAirTemp</th>\n",
       "      <th>maxAirTemp</th>\n",
       "      <th>minAirTemp</th>\n",
       "      <th>humidity</th>\n",
       "      <th>meanDewPoint</th>\n",
       "      <th>minDewPoint</th>\n",
       "      <th>eto</th>\n",
       "    </tr>\n",
       "  </thead>\n",
       "  <tbody>\n",
       "    <tr>\n",
       "      <th>0</th>\n",
       "      <td>2</td>\n",
       "      <td>213.0</td>\n",
       "      <td>730.0</td>\n",
       "      <td>155232.0</td>\n",
       "      <td>15</td>\n",
       "      <td>235.950000</td>\n",
       "      <td>19.6</td>\n",
       "      <td>2.805000</td>\n",
       "      <td>9.8</td>\n",
       "      <td>6886.000000</td>\n",
       "      <td>1035.0</td>\n",
       "      <td>10.486000</td>\n",
       "      <td>24.45</td>\n",
       "      <td>0.29</td>\n",
       "      <td>74.419500</td>\n",
       "      <td>5.210000</td>\n",
       "      <td>2.140000</td>\n",
       "      <td>62.2</td>\n",
       "    </tr>\n",
       "    <tr>\n",
       "      <th>1</th>\n",
       "      <td>5</td>\n",
       "      <td>179.0</td>\n",
       "      <td>643.0</td>\n",
       "      <td>155232.0</td>\n",
       "      <td>15</td>\n",
       "      <td>235.950000</td>\n",
       "      <td>19.6</td>\n",
       "      <td>2.805000</td>\n",
       "      <td>9.8</td>\n",
       "      <td>6886.000000</td>\n",
       "      <td>1035.0</td>\n",
       "      <td>10.486000</td>\n",
       "      <td>24.45</td>\n",
       "      <td>0.29</td>\n",
       "      <td>74.419500</td>\n",
       "      <td>5.210000</td>\n",
       "      <td>2.140000</td>\n",
       "      <td>62.2</td>\n",
       "    </tr>\n",
       "    <tr>\n",
       "      <th>2</th>\n",
       "      <td>5</td>\n",
       "      <td>183.0</td>\n",
       "      <td>647.0</td>\n",
       "      <td>155232.0</td>\n",
       "      <td>15</td>\n",
       "      <td>235.950000</td>\n",
       "      <td>19.6</td>\n",
       "      <td>2.805000</td>\n",
       "      <td>9.8</td>\n",
       "      <td>6886.000000</td>\n",
       "      <td>1035.0</td>\n",
       "      <td>10.486000</td>\n",
       "      <td>24.45</td>\n",
       "      <td>0.29</td>\n",
       "      <td>74.419500</td>\n",
       "      <td>5.210000</td>\n",
       "      <td>2.140000</td>\n",
       "      <td>62.2</td>\n",
       "    </tr>\n",
       "    <tr>\n",
       "      <th>3</th>\n",
       "      <td>3</td>\n",
       "      <td>176.0</td>\n",
       "      <td>694.0</td>\n",
       "      <td>155232.0</td>\n",
       "      <td>15</td>\n",
       "      <td>235.950000</td>\n",
       "      <td>19.6</td>\n",
       "      <td>2.805000</td>\n",
       "      <td>9.8</td>\n",
       "      <td>6886.000000</td>\n",
       "      <td>1035.0</td>\n",
       "      <td>10.486000</td>\n",
       "      <td>24.45</td>\n",
       "      <td>0.29</td>\n",
       "      <td>74.419500</td>\n",
       "      <td>5.210000</td>\n",
       "      <td>2.140000</td>\n",
       "      <td>62.2</td>\n",
       "    </tr>\n",
       "    <tr>\n",
       "      <th>4</th>\n",
       "      <td>1</td>\n",
       "      <td>192.0</td>\n",
       "      <td>730.0</td>\n",
       "      <td>155232.0</td>\n",
       "      <td>15</td>\n",
       "      <td>235.950000</td>\n",
       "      <td>19.6</td>\n",
       "      <td>2.805000</td>\n",
       "      <td>9.8</td>\n",
       "      <td>6886.000000</td>\n",
       "      <td>1035.0</td>\n",
       "      <td>10.486000</td>\n",
       "      <td>24.45</td>\n",
       "      <td>0.29</td>\n",
       "      <td>74.419500</td>\n",
       "      <td>5.210000</td>\n",
       "      <td>2.140000</td>\n",
       "      <td>62.2</td>\n",
       "    </tr>\n",
       "    <tr>\n",
       "      <th>...</th>\n",
       "      <td>...</td>\n",
       "      <td>...</td>\n",
       "      <td>...</td>\n",
       "      <td>...</td>\n",
       "      <td>...</td>\n",
       "      <td>...</td>\n",
       "      <td>...</td>\n",
       "      <td>...</td>\n",
       "      <td>...</td>\n",
       "      <td>...</td>\n",
       "      <td>...</td>\n",
       "      <td>...</td>\n",
       "      <td>...</td>\n",
       "      <td>...</td>\n",
       "      <td>...</td>\n",
       "      <td>...</td>\n",
       "      <td>...</td>\n",
       "      <td>...</td>\n",
       "    </tr>\n",
       "    <tr>\n",
       "      <th>3231</th>\n",
       "      <td>4</td>\n",
       "      <td>621.0</td>\n",
       "      <td>780.0</td>\n",
       "      <td>133056.0</td>\n",
       "      <td>32</td>\n",
       "      <td>177.882353</td>\n",
       "      <td>58.0</td>\n",
       "      <td>2.747059</td>\n",
       "      <td>11.5</td>\n",
       "      <td>6866.411765</td>\n",
       "      <td>3850.0</td>\n",
       "      <td>17.182647</td>\n",
       "      <td>33.26</td>\n",
       "      <td>2.69</td>\n",
       "      <td>85.283235</td>\n",
       "      <td>14.120588</td>\n",
       "      <td>11.229412</td>\n",
       "      <td>98.4</td>\n",
       "    </tr>\n",
       "    <tr>\n",
       "      <th>3232</th>\n",
       "      <td>1</td>\n",
       "      <td>680.0</td>\n",
       "      <td>834.0</td>\n",
       "      <td>133056.0</td>\n",
       "      <td>32</td>\n",
       "      <td>177.882353</td>\n",
       "      <td>58.0</td>\n",
       "      <td>2.747059</td>\n",
       "      <td>11.5</td>\n",
       "      <td>6866.411765</td>\n",
       "      <td>3850.0</td>\n",
       "      <td>17.182647</td>\n",
       "      <td>33.26</td>\n",
       "      <td>2.69</td>\n",
       "      <td>85.283235</td>\n",
       "      <td>14.120588</td>\n",
       "      <td>11.229412</td>\n",
       "      <td>98.4</td>\n",
       "    </tr>\n",
       "    <tr>\n",
       "      <th>3233</th>\n",
       "      <td>2</td>\n",
       "      <td>583.0</td>\n",
       "      <td>726.0</td>\n",
       "      <td>133056.0</td>\n",
       "      <td>32</td>\n",
       "      <td>177.882353</td>\n",
       "      <td>58.0</td>\n",
       "      <td>2.747059</td>\n",
       "      <td>11.5</td>\n",
       "      <td>6866.411765</td>\n",
       "      <td>3850.0</td>\n",
       "      <td>17.182647</td>\n",
       "      <td>33.26</td>\n",
       "      <td>2.69</td>\n",
       "      <td>85.283235</td>\n",
       "      <td>14.120588</td>\n",
       "      <td>11.229412</td>\n",
       "      <td>98.4</td>\n",
       "    </tr>\n",
       "    <tr>\n",
       "      <th>3234</th>\n",
       "      <td>3</td>\n",
       "      <td>609.0</td>\n",
       "      <td>769.0</td>\n",
       "      <td>133056.0</td>\n",
       "      <td>32</td>\n",
       "      <td>177.882353</td>\n",
       "      <td>58.0</td>\n",
       "      <td>2.747059</td>\n",
       "      <td>11.5</td>\n",
       "      <td>6866.411765</td>\n",
       "      <td>3850.0</td>\n",
       "      <td>17.182647</td>\n",
       "      <td>33.26</td>\n",
       "      <td>2.69</td>\n",
       "      <td>85.283235</td>\n",
       "      <td>14.120588</td>\n",
       "      <td>11.229412</td>\n",
       "      <td>98.4</td>\n",
       "    </tr>\n",
       "    <tr>\n",
       "      <th>3235</th>\n",
       "      <td>3</td>\n",
       "      <td>709.0</td>\n",
       "      <td>802.0</td>\n",
       "      <td>133056.0</td>\n",
       "      <td>32</td>\n",
       "      <td>177.882353</td>\n",
       "      <td>58.0</td>\n",
       "      <td>2.747059</td>\n",
       "      <td>11.5</td>\n",
       "      <td>6866.411765</td>\n",
       "      <td>3850.0</td>\n",
       "      <td>17.182647</td>\n",
       "      <td>33.26</td>\n",
       "      <td>2.69</td>\n",
       "      <td>85.283235</td>\n",
       "      <td>14.120588</td>\n",
       "      <td>11.229412</td>\n",
       "      <td>98.4</td>\n",
       "    </tr>\n",
       "  </tbody>\n",
       "</table>\n",
       "<p>3236 rows × 18 columns</p>\n",
       "</div>"
      ],
      "text/plain": [
       "      class  freshWeight  leafArea  volumePlanted  plantingWeek  \\\n",
       "0         2        213.0     730.0       155232.0            15   \n",
       "1         5        179.0     643.0       155232.0            15   \n",
       "2         5        183.0     647.0       155232.0            15   \n",
       "3         3        176.0     694.0       155232.0            15   \n",
       "4         1        192.0     730.0       155232.0            15   \n",
       "...     ...          ...       ...            ...           ...   \n",
       "3231      4        621.0     780.0       133056.0            32   \n",
       "3232      1        680.0     834.0       133056.0            32   \n",
       "3233      2        583.0     726.0       133056.0            32   \n",
       "3234      3        609.0     769.0       133056.0            32   \n",
       "3235      3        709.0     802.0       133056.0            32   \n",
       "\n",
       "      meanSolarRadiation  totalPrecipitation  meanWindSpeed  maxWindSpeed  \\\n",
       "0             235.950000                19.6       2.805000           9.8   \n",
       "1             235.950000                19.6       2.805000           9.8   \n",
       "2             235.950000                19.6       2.805000           9.8   \n",
       "3             235.950000                19.6       2.805000           9.8   \n",
       "4             235.950000                19.6       2.805000           9.8   \n",
       "...                  ...                 ...            ...           ...   \n",
       "3231          177.882353                58.0       2.747059          11.5   \n",
       "3232          177.882353                58.0       2.747059          11.5   \n",
       "3233          177.882353                58.0       2.747059          11.5   \n",
       "3234          177.882353                58.0       2.747059          11.5   \n",
       "3235          177.882353                58.0       2.747059          11.5   \n",
       "\n",
       "      batteryVoltage  leafWetness  meanAirTemp  maxAirTemp  minAirTemp  \\\n",
       "0        6886.000000       1035.0    10.486000       24.45        0.29   \n",
       "1        6886.000000       1035.0    10.486000       24.45        0.29   \n",
       "2        6886.000000       1035.0    10.486000       24.45        0.29   \n",
       "3        6886.000000       1035.0    10.486000       24.45        0.29   \n",
       "4        6886.000000       1035.0    10.486000       24.45        0.29   \n",
       "...              ...          ...          ...         ...         ...   \n",
       "3231     6866.411765       3850.0    17.182647       33.26        2.69   \n",
       "3232     6866.411765       3850.0    17.182647       33.26        2.69   \n",
       "3233     6866.411765       3850.0    17.182647       33.26        2.69   \n",
       "3234     6866.411765       3850.0    17.182647       33.26        2.69   \n",
       "3235     6866.411765       3850.0    17.182647       33.26        2.69   \n",
       "\n",
       "       humidity  meanDewPoint  minDewPoint   eto  \n",
       "0     74.419500      5.210000     2.140000  62.2  \n",
       "1     74.419500      5.210000     2.140000  62.2  \n",
       "2     74.419500      5.210000     2.140000  62.2  \n",
       "3     74.419500      5.210000     2.140000  62.2  \n",
       "4     74.419500      5.210000     2.140000  62.2  \n",
       "...         ...           ...          ...   ...  \n",
       "3231  85.283235     14.120588    11.229412  98.4  \n",
       "3232  85.283235     14.120588    11.229412  98.4  \n",
       "3233  85.283235     14.120588    11.229412  98.4  \n",
       "3234  85.283235     14.120588    11.229412  98.4  \n",
       "3235  85.283235     14.120588    11.229412  98.4  \n",
       "\n",
       "[3236 rows x 18 columns]"
      ]
     },
     "execution_count": 5,
     "metadata": {},
     "output_type": "execute_result"
    }
   ],
   "source": [
    "x"
   ]
  },
  {
   "cell_type": "markdown",
   "metadata": {},
   "source": [
    "## Linear Regression"
   ]
  },
  {
   "cell_type": "code",
   "execution_count": 6,
   "metadata": {},
   "outputs": [
    {
     "name": "stdout",
     "output_type": "stream",
     "text": [
      "{'fit_time': array([0.01172519, 0.01182318, 0.00881314, 0.00752997, 0.00676012,\n",
      "       0.00800109, 0.00873494, 0.00735211, 0.00674987, 0.00668907]), 'score_time': array([0.00879502, 0.00625587, 0.00638199, 0.00549603, 0.00523901,\n",
      "       0.00526786, 0.00474429, 0.00532389, 0.00576901, 0.00535083]), 'test_r2': array([0.52995958, 0.73123613, 0.75849609, 0.70092753, 0.79129434,\n",
      "       0.68119516, 0.78133392, 0.38177529, 0.82083884, 0.64891907]), 'test_neg_root_mean_squared_error': array([-64.72913268, -37.30623736, -41.96827707, -40.21773283,\n",
      "       -36.26631114, -35.28162476, -27.16207893, -31.44594923,\n",
      "       -32.17111289, -33.76744632])}\n"
     ]
    }
   ],
   "source": [
    "linReg = LinearRegression()\n",
    "model = MultiOutputRegressor(linReg)\n",
    "scores = cross_validate(model, x, y, cv=10, scoring=('r2', 'neg_root_mean_squared_error'))\n",
    "print(scores)"
   ]
  },
  {
   "cell_type": "code",
   "execution_count": 7,
   "metadata": {},
   "outputs": [
    {
     "name": "stdout",
     "output_type": "stream",
     "text": [
      "Linear Regression\n",
      "-38.03 root mean squared error with a standard deviation of 9.79\n"
     ]
    }
   ],
   "source": [
    "print(\"Linear Regression\")\n",
    "print(\"%0.2f root mean squared error with a standard deviation of %0.2f\" % (scores['test_neg_root_mean_squared_error'].mean(), scores['test_neg_root_mean_squared_error'].std()))"
   ]
  },
  {
   "cell_type": "code",
   "execution_count": 8,
   "metadata": {},
   "outputs": [
    {
     "name": "stdout",
     "output_type": "stream",
     "text": [
      "0.68 r2 with a standard deviation of 0.13\n"
     ]
    }
   ],
   "source": [
    "print(\"%0.2f r2 with a standard deviation of %0.2f\" % (scores['test_r2'].mean(), scores['test_r2'].std()))"
   ]
  },
  {
   "cell_type": "markdown",
   "metadata": {},
   "source": [
    "## Decision Tree"
   ]
  },
  {
   "cell_type": "code",
   "execution_count": 9,
   "metadata": {},
   "outputs": [
    {
     "name": "stdout",
     "output_type": "stream",
     "text": [
      "{'fit_time': array([0.05373597, 0.04843307, 0.04420614, 0.04219604, 0.04444885,\n",
      "       0.0434401 , 0.04453301, 0.04467511, 0.04436564, 0.04345918]), 'score_time': array([0.00538397, 0.00571299, 0.00499487, 0.00462317, 0.00474215,\n",
      "       0.0046289 , 0.00463295, 0.00458312, 0.00466299, 0.00458694]), 'test_r2': array([0.57521032, 0.63617732, 0.65060123, 0.67580206, 0.69353487,\n",
      "       0.6540665 , 0.60747584, 0.44710328, 0.70362944, 0.72074546]), 'test_neg_root_mean_squared_error': array([-53.883605  , -49.75546805, -52.47735559, -49.09458429,\n",
      "       -51.45709958, -41.24932825, -38.192296  , -35.44572877,\n",
      "       -40.0741965 , -31.97629606])}\n"
     ]
    }
   ],
   "source": [
    "decTree = DecisionTreeRegressor()\n",
    "model = MultiOutputRegressor(decTree)\n",
    "scores = cross_validate(model, x, y, cv=10, scoring=('r2', 'neg_root_mean_squared_error'))\n",
    "print(scores)"
   ]
  },
  {
   "cell_type": "code",
   "execution_count": 10,
   "metadata": {},
   "outputs": [
    {
     "name": "stdout",
     "output_type": "stream",
     "text": [
      "Decision Tree\n",
      "-44.36 root mean squared error with a standard deviation of 7.47\n"
     ]
    }
   ],
   "source": [
    "print(\"Decision Tree\")\n",
    "print(\"%0.2f root mean squared error with a standard deviation of %0.2f\" % (scores['test_neg_root_mean_squared_error'].mean(), scores['test_neg_root_mean_squared_error'].std()))"
   ]
  },
  {
   "cell_type": "code",
   "execution_count": 11,
   "metadata": {},
   "outputs": [
    {
     "name": "stdout",
     "output_type": "stream",
     "text": [
      "0.64 r2 with a standard deviation of 0.08\n"
     ]
    }
   ],
   "source": [
    "print(\"%0.2f r2 with a standard deviation of %0.2f\" % (scores['test_r2'].mean(), scores['test_r2'].std()))"
   ]
  },
  {
   "cell_type": "markdown",
   "metadata": {},
   "source": [
    "## Randon Forest Regressor"
   ]
  },
  {
   "cell_type": "code",
   "execution_count": 12,
   "metadata": {},
   "outputs": [
    {
     "name": "stdout",
     "output_type": "stream",
     "text": [
      "{'fit_time': array([5.52191281, 6.12477088, 5.89882278, 5.85699415, 5.62090325,\n",
      "       5.51159692, 5.86743307, 6.23666406, 5.89354205, 5.58606601]), 'score_time': array([0.0598278 , 0.06368828, 0.07435703, 0.06380987, 0.06067181,\n",
      "       0.0623641 , 0.05929399, 0.06246185, 0.06535602, 0.05518293]), 'test_r2': array([0.83822395, 0.79104687, 0.80138277, 0.85509632, 0.83877   ,\n",
      "       0.77211341, 0.81160483, 0.71467824, 0.86386053, 0.85541953]), 'test_neg_root_mean_squared_error': array([-36.26103821, -35.35079629, -38.54818799, -33.68746527,\n",
      "       -39.00034998, -33.29352111, -25.70277604, -29.15756158,\n",
      "       -29.39036906, -23.0014049 ])}\n"
     ]
    }
   ],
   "source": [
    "myRandomForest = RandomForestRegressor(n_estimators=200)\n",
    "model = MultiOutputRegressor(myRandomForest)\n",
    "scores = cross_validate(model, x, y, cv=10, scoring=('r2', 'neg_root_mean_squared_error'))\n",
    "print(scores)"
   ]
  },
  {
   "cell_type": "code",
   "execution_count": 13,
   "metadata": {},
   "outputs": [
    {
     "name": "stdout",
     "output_type": "stream",
     "text": [
      "Random Forest Regressor\n",
      "-32.34 root mean squared error with a standard deviation of 5.10\n"
     ]
    }
   ],
   "source": [
    "print(\"Random Forest Regressor\")\n",
    "print(\"%0.2f root mean squared error with a standard deviation of %0.2f\" % (scores['test_neg_root_mean_squared_error'].mean(), scores['test_neg_root_mean_squared_error'].std()))"
   ]
  },
  {
   "cell_type": "code",
   "execution_count": 14,
   "metadata": {},
   "outputs": [
    {
     "name": "stdout",
     "output_type": "stream",
     "text": [
      "0.81 r2 with a standard deviation of 0.04\n"
     ]
    }
   ],
   "source": [
    "print(\"%0.2f r2 with a standard deviation of %0.2f\" % (scores['test_r2'].mean(), scores['test_r2'].std()))"
   ]
  },
  {
   "cell_type": "markdown",
   "metadata": {},
   "source": [
    "## Gradient Booster Regression"
   ]
  },
  {
   "cell_type": "code",
   "execution_count": 15,
   "metadata": {},
   "outputs": [
    {
     "name": "stdout",
     "output_type": "stream",
     "text": [
      "{'fit_time': array([0.81265879, 0.92177486, 0.80728412, 0.99011588, 0.95878386,\n",
      "       0.90869689, 0.90901279, 0.82959604, 0.81944394, 0.8140409 ]), 'score_time': array([0.00567508, 0.00571704, 0.00639987, 0.00962591, 0.00679398,\n",
      "       0.00628114, 0.00588608, 0.00588012, 0.00554895, 0.00616002]), 'test_r2': array([0.86337876, 0.81618985, 0.81212725, 0.8641407 , 0.85761807,\n",
      "       0.76118029, 0.78633858, 0.69696343, 0.88287605, 0.87141485]), 'test_neg_root_mean_squared_error': array([-35.70848146, -32.78268473, -38.30895035, -31.81985627,\n",
      "       -35.71840203, -32.44538015, -26.54575091, -27.4560605 ,\n",
      "       -26.66060262, -19.86310374])}\n"
     ]
    }
   ],
   "source": [
    "myGradientBooster = GradientBoostingRegressor()\n",
    "model = MultiOutputRegressor(myGradientBooster)\n",
    "scores = cross_validate(model, x, y, cv=10, scoring=('r2', 'neg_root_mean_squared_error'))\n",
    "print(scores)"
   ]
  },
  {
   "cell_type": "code",
   "execution_count": 16,
   "metadata": {},
   "outputs": [
    {
     "name": "stdout",
     "output_type": "stream",
     "text": [
      "Gradient Booester Regressor\n",
      "-30.73 root mean squared error with a standard deviation of 5.28\n"
     ]
    }
   ],
   "source": [
    "print(\"Gradient Booester Regressor\")\n",
    "print(\"%0.2f root mean squared error with a standard deviation of %0.2f\" % (scores['test_neg_root_mean_squared_error'].mean(), scores['test_neg_root_mean_squared_error'].std()))"
   ]
  },
  {
   "cell_type": "code",
   "execution_count": 17,
   "metadata": {},
   "outputs": [
    {
     "name": "stdout",
     "output_type": "stream",
     "text": [
      "0.82 r2 with a standard deviation of 0.06\n"
     ]
    }
   ],
   "source": [
    "print(\"%0.2f r2 with a standard deviation of %0.2f\" % (scores['test_r2'].mean(), scores['test_r2'].std()))"
   ]
  },
  {
   "cell_type": "markdown",
   "metadata": {},
   "source": [
    "### Label One"
   ]
  },
  {
   "cell_type": "code",
   "execution_count": 18,
   "metadata": {},
   "outputs": [
    {
     "name": "stdout",
     "output_type": "stream",
     "text": [
      "{'fit_time': array([0.33254099, 0.2730031 , 0.3926568 , 0.34368777, 0.26980901,\n",
      "       0.33693194, 0.33439183, 0.27910519, 0.32806826, 0.29332423]), 'score_time': array([0.00191402, 0.00267267, 0.00279522, 0.00184703, 0.00180697,\n",
      "       0.00383186, 0.00180316, 0.00182009, 0.00247383, 0.00238109]), 'test_r2': array([0.83353601, 0.86229402, 0.85777079, 0.84255672, 0.89106219,\n",
      "       0.89717678, 0.89442291, 0.89691854, 0.9152283 , 0.90034893]), 'test_neg_root_mean_squared_error': array([-82.91987451, -70.87011263, -81.58726903, -70.61494198,\n",
      "       -78.63076715, -62.75649163, -54.08863933, -58.31934476,\n",
      "       -55.09444761, -35.57855538])}\n"
     ]
    }
   ],
   "source": [
    "labelOne = GradientBoostingRegressor()\n",
    "scores = cross_validate(labelOne, x, y['headWeight'], cv=10, scoring=('r2', 'neg_root_mean_squared_error'))\n",
    "print(scores)"
   ]
  },
  {
   "cell_type": "code",
   "execution_count": 19,
   "metadata": {},
   "outputs": [
    {
     "name": "stdout",
     "output_type": "stream",
     "text": [
      "Gradient Booester Regressor Label One\n",
      "-65.05 root mean squared error with a standard deviation of 14.07\n"
     ]
    }
   ],
   "source": [
    "print(\"Gradient Booester Regressor Label One\")\n",
    "print(\"%0.2f root mean squared error with a standard deviation of %0.2f\" % (scores['test_neg_root_mean_squared_error'].mean(), scores['test_neg_root_mean_squared_error'].std()))"
   ]
  },
  {
   "cell_type": "code",
   "execution_count": 20,
   "metadata": {},
   "outputs": [
    {
     "name": "stdout",
     "output_type": "stream",
     "text": [
      "0.88 r2 with a standard deviation of 0.03\n"
     ]
    }
   ],
   "source": [
    "print(\"%0.2f r2 with a standard deviation of %0.2f\" % (scores['test_r2'].mean(), scores['test_r2'].std()))"
   ]
  },
  {
   "cell_type": "markdown",
   "metadata": {},
   "source": [
    "### Label Two"
   ]
  },
  {
   "cell_type": "code",
   "execution_count": 21,
   "metadata": {},
   "outputs": [
    {
     "name": "stdout",
     "output_type": "stream",
     "text": [
      "{'fit_time': array([0.29110789, 0.26544094, 0.29642129, 0.38554716, 0.2679162 ,\n",
      "       0.26774287, 0.26884794, 0.28432107, 0.34530306, 0.32797408]), 'score_time': array([0.00178909, 0.00199819, 0.00270391, 0.00191998, 0.00190282,\n",
      "       0.00194502, 0.0018208 , 0.00215292, 0.00252914, 0.00245404]), 'test_r2': array([0.92596949, 0.87713999, 0.8638616 , 0.90398035, 0.89186606,\n",
      "       0.83958233, 0.83902   , 0.5937946 , 0.91274911, 0.91385033]), 'test_neg_root_mean_squared_error': array([-11.42335794, -12.47096838, -15.97474203, -12.10943186,\n",
      "       -13.70538481, -15.20686381, -11.29160166, -12.79163855,\n",
      "       -10.97383878, -11.32830596])}\n"
     ]
    }
   ],
   "source": [
    "labelTwo = GradientBoostingRegressor()\n",
    "scores = cross_validate(labelTwo, x, y['radialDiameter'], cv=10, scoring=('r2', 'neg_root_mean_squared_error'))\n",
    "print(scores)"
   ]
  },
  {
   "cell_type": "code",
   "execution_count": 22,
   "metadata": {},
   "outputs": [
    {
     "name": "stdout",
     "output_type": "stream",
     "text": [
      "Gradient Booester Regressor Label Two\n",
      "-12.73 root mean squared error with a standard deviation of 1.64\n"
     ]
    }
   ],
   "source": [
    "print(\"Gradient Booester Regressor Label Two\")\n",
    "print(\"%0.2f root mean squared error with a standard deviation of %0.2f\" % (scores['test_neg_root_mean_squared_error'].mean(), scores['test_neg_root_mean_squared_error'].std()))"
   ]
  },
  {
   "cell_type": "code",
   "execution_count": 23,
   "metadata": {},
   "outputs": [
    {
     "name": "stdout",
     "output_type": "stream",
     "text": [
      "0.86 r2 with a standard deviation of 0.09\n"
     ]
    }
   ],
   "source": [
    "print(\"%0.2f r2 with a standard deviation of %0.2f\" % (scores['test_r2'].mean(), scores['test_r2'].std()))"
   ]
  },
  {
   "cell_type": "markdown",
   "metadata": {},
   "source": [
    "### Label Three"
   ]
  },
  {
   "cell_type": "code",
   "execution_count": 24,
   "metadata": {},
   "outputs": [
    {
     "name": "stdout",
     "output_type": "stream",
     "text": [
      "{'fit_time': array([0.3040421 , 0.26708412, 0.26603794, 0.34103012, 0.33047676,\n",
      "       0.27178431, 0.27327013, 0.27563691, 0.27248192, 0.27070117]), 'score_time': array([0.00196981, 0.0018518 , 0.00188589, 0.00298405, 0.00189805,\n",
      "       0.00177264, 0.00182295, 0.00200033, 0.00176215, 0.00181508]), 'test_r2': array([0.83848159, 0.70862855, 0.71106651, 0.84353098, 0.78899643,\n",
      "       0.53889966, 0.62965428, 0.64236693, 0.82213708, 0.80810852]), 'test_neg_root_mean_squared_error': array([-13.0500212 , -14.72927095, -17.1539111 , -13.02778926,\n",
      "       -15.11005026, -19.89241203, -14.10418673, -10.13777793,\n",
      "       -14.13331308, -12.22812604])}\n"
     ]
    }
   ],
   "source": [
    "labelThree = GradientBoostingRegressor()\n",
    "scores = cross_validate(labelThree, x, y['polarDiameter'], cv=10, scoring=('r2', 'neg_root_mean_squared_error'))\n",
    "print(scores)"
   ]
  },
  {
   "cell_type": "code",
   "execution_count": 25,
   "metadata": {},
   "outputs": [
    {
     "name": "stdout",
     "output_type": "stream",
     "text": [
      "Gradient Booester Regressor Label Three\n",
      "-14.36 root mean squared error with a standard deviation of 2.55\n"
     ]
    }
   ],
   "source": [
    "print(\"Gradient Booester Regressor Label Three\")\n",
    "print(\"%0.2f root mean squared error with a standard deviation of %0.2f\" % (scores['test_neg_root_mean_squared_error'].mean(), scores['test_neg_root_mean_squared_error'].std()))"
   ]
  },
  {
   "cell_type": "code",
   "execution_count": 26,
   "metadata": {},
   "outputs": [
    {
     "name": "stdout",
     "output_type": "stream",
     "text": [
      "0.73 r2 with a standard deviation of 0.10\n"
     ]
    }
   ],
   "source": [
    "print(\"%0.2f r2 with a standard deviation of %0.2f\" % (scores['test_r2'].mean(), scores['test_r2'].std()))"
   ]
  },
  {
   "cell_type": "markdown",
   "metadata": {},
   "source": [
    "## Plots"
   ]
  },
  {
   "cell_type": "code",
   "execution_count": 49,
   "metadata": {},
   "outputs": [
    {
     "data": {
      "image/png": "[encoded data removed]",
      "text/plain": [
       "<Figure size 720x576 with 1 Axes>"
      ]
     },
     "metadata": {
      "needs_background": "light"
     },
     "output_type": "display_data"
    }
   ],
   "source": [
    "plt.rcParams[\"figure.figsize\"] = (10,8)\n",
    "labels = ['Linear Regression', 'Decision Tree', 'Random Forest Regressor', 'Gradient Booster Regression']\n",
    "values = [0.68, 0.64, 0.82, 0.82]\n",
    "x = np.arange(len(labels))\n",
    "\n",
    "fig, ax = plt.subplots()\n",
    "ax.bar(x, height=values, width=0.5)\n",
    "ax.set_ylabel('Values')\n",
    "ax.set_title('R^2 Per Model')\n",
    "ax.set_xticks(x, labels)\n",
    "plt.show()"
   ]
  },
  {
   "cell_type": "code",
   "execution_count": 50,
   "metadata": {},
   "outputs": [
    {
     "data": {
      "image/png": "[encoded data removed]",
      "text/plain": [
       "<Figure size 720x576 with 1 Axes>"
      ]
     },
     "metadata": {
      "needs_background": "light"
     },
     "output_type": "display_data"
    }
   ],
   "source": [
    "plt.rcParams[\"figure.figsize\"] = (10,8)\n",
    "labels = ['Linear Regression', 'Decision Tree', 'Random Forest Regressor', 'Gradient Booster Regression']\n",
    "values = [38.03, 44.36, 32.34, 30.73]\n",
    "x = np.arange(len(labels))\n",
    "\n",
    "fig, ax = plt.subplots()\n",
    "ax.bar(x, height=values, width=0.5)\n",
    "ax.set_ylabel('Values')\n",
    "ax.set_title('RMSE Per Model')\n",
    "ax.set_xticks(x, labels)\n",
    "plt.show()"
   ]
  },
  {
   "cell_type": "code",
   "execution_count": null,
   "metadata": {},
   "outputs": [],
   "source": []
  }
 ],
 "metadata": {
  "interpreter": {
   "hash": "aee8b7b246df8f9039afb4144a1f6fd8d2ca17a180786b69acc140d282b71a49"
  },
  "kernelspec": {
   "display_name": "Python 3.10.0 64-bit",
   "language": "python",
   "name": "python3"
  },
  "language_info": {
   "codemirror_mode": {
    "name": "ipython",
    "version": 3
   },
   "file_extension": ".py",
   "mimetype": "text/x-python",
   "name": "python",
   "nbconvert_exporter": "python",
   "pygments_lexer": "ipython3",
   "version": "3.9.5"
  },
  "orig_nbformat": 4
 },
 "nbformat": 4,
 "nbformat_minor": 2
}
